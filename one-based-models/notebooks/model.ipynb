{
 "cells": [
  {
   "cell_type": "code",
   "execution_count": 1,
   "metadata": {},
   "outputs": [],
   "source": [
    "from sklearn.pipeline import Pipeline\n",
    "from sklearn.metrics import r2_score\n",
    "from sklearn.preprocessing import MinMaxScaler\n",
    "from sklearn.model_selection import train_test_split\n",
    "from sklearn.datasets import fetch_openml\n",
    "import pandas as pd\n",
    "from sklearn.utils import resample\n",
    "from sklearn.linear_model import LogisticRegression\n",
    "from sklearn.linear_model import PoissonRegressor\n",
    "import numpy as np\n",
    "\n",
    "import matplotlib.pyplot as plt\n"
   ]
  },
  {
   "cell_type": "code",
   "execution_count": 10,
   "metadata": {},
   "outputs": [
    {
     "name": "stderr",
     "output_type": "stream",
     "text": [
      "c:\\Users\\Jason\\Desktop\\git_control\\ml-research\\.venv\\Lib\\site-packages\\sklearn\\datasets\\_openml.py:968: FutureWarning: The default value of `parser` will change from `'liac-arff'` to `'auto'` in 1.4. You can set `parser='auto'` to silence this warning. Therefore, an `ImportError` will be raised from 1.4 if the dataset is dense and pandas is not installed. Note that the pandas parser may return different data types. See the Notes Section in fetch_openml's API doc for details.\n",
      "  warn(\n"
     ]
    }
   ],
   "source": [
    "X,y = fetch_openml(data_id=43927,return_X_y=True,as_frame=True)\n",
    "\n",
    "X['date']=pd.to_datetime(X['year'].astype(int).astype(str)+\"-\"+\n",
    "               X['month'].astype(int).astype(str)+\"-\"+\n",
    "               X['day'].astype(int).astype(str)\n",
    "               )\n",
    "\n",
    "X['price'] = y\n"
   ]
  },
  {
   "cell_type": "markdown",
   "metadata": {},
   "source": [
    "# Multi-Target Regressions for Proportioning Mathematically Limit Predictions\n",
    "\n",
    "Consider a regression task with K targets (rather than a typical single-target regression), where each target is a percentage allocated to a single entity, and all of the target proportions sum to 1. Linear-algebraically, nothing about this regression is different from single-target regression, and the coefficients can be solved explicitly:\n",
    "\n",
    "$ B = (X^{t} \\cdot X)^{-1} \\cdot (X^{t} \\cdot Y) $\n",
    "\n",
    "If input matrix X has M predictors (I always include the intercept in M), with K targets, B is a matrix of shape MxK.\n",
    "\n",
    "Consider the condition that targets in Y sum to 1 (over axis 1). This is a dot product of Y with a vector of ones, size K. The condition that Y sums to 1 can be written as:\n",
    "\n",
    "$ Y \\cdot 1 = Y_{sum} = 1$\n",
    "\n",
    "$ Y \\cdot 1 = Y_{sum}$ has no variance, it is a constant, and so a regression for $ Y_{sum} $ would return a non-zero intercept ($ b_0 = 1$). Feature coefficients would be equal to 0 because the features have no correlation with the target (because the target has no variance). \n",
    "\n",
    "The multiplication of a Kx1 vector of ones onto Y in order to sum over Y can be symetrically applied to the other side of the regression, and in doing so, B of shape MxK is consolidated by summation into shape Mx1:\n",
    "\n",
    "$ Y = X \\cdot B + Norm(0,\\sigma, (N,K))$\n",
    "\n",
    "$ Y \\cdot 1 = Y_{sum} = X \\cdot B \\cdot 1 + Norm(0,\\sigma, (N,K)) \\cdot 1$\n",
    "\n",
    "$ Y_{sum} = X \\cdot B_{sum} + Norm(0,\\sigma)$\n",
    "\n",
    "Here, $ B_{sum} $ is the vector of coefficients that would be calculated from a regression against $ Y_{sum} $, which has a constant value of 1, or no variance. So, while all of the feature coefficients in $ B $ sum over axis 1 to equal 0, the intercept coefficients in $ B $ sum to 1. \n",
    "\n",
    "\n",
    "\n",
    "\n",
    "\n",
    "\n",
    "\n",
    "\n",
    "$\\sum{ \\hat{X} \\cdot ( (X^t\\cdot X)^{-1}\\cdot (X^{t} \\cdot Y) ) } = \\sum{ Y }$"
   ]
  },
  {
   "cell_type": "code",
   "execution_count": 11,
   "metadata": {},
   "outputs": [
    {
     "data": {
      "text/plain": [
       "region\n",
       "Syracuse               1.094267e+07\n",
       "Boise                  1.441319e+07\n",
       "Spokane                1.556528e+07\n",
       "Albany                 1.606780e+07\n",
       "Louisville             1.609700e+07\n",
       "Pittsburgh             1.880635e+07\n",
       "BuffaloRochester       2.296247e+07\n",
       "Roanoke                2.504201e+07\n",
       "Jacksonville           2.879000e+07\n",
       "Columbus               2.999336e+07\n",
       "GrandRapids            3.021174e+07\n",
       "Indianapolis           3.026339e+07\n",
       "StLouis                3.207283e+07\n",
       "Charlotte              3.555554e+07\n",
       "Nashville              3.561209e+07\n",
       "HarrisburgScranton     4.180886e+07\n",
       "RichmondNorfolk        4.223085e+07\n",
       "CincinnatiDayton       4.452201e+07\n",
       "NewOrleansMobile       4.569514e+07\n",
       "RaleighGreensboro      4.820273e+07\n",
       "HartfordSpringfield    5.067054e+07\n",
       "LasVegas               5.437691e+07\n",
       "Orlando                5.866070e+07\n",
       "SouthCarolina          6.075377e+07\n",
       "Detroit                6.342242e+07\n",
       "Tampa                  6.600454e+07\n",
       "NorthernNewEngland     7.153289e+07\n",
       "Philadelphia           7.183880e+07\n",
       "Sacramento             7.516375e+07\n",
       "Atlanta                8.860512e+07\n",
       "SanDiego               8.979192e+07\n",
       "Boston                 9.727398e+07\n",
       "MiamiFtLauderdale      9.767322e+07\n",
       "Seattle                1.092142e+08\n",
       "Portland               1.105522e+08\n",
       "Chicago                1.337023e+08\n",
       "BaltimoreWashington    1.347139e+08\n",
       "SanFrancisco           1.358302e+08\n",
       "Denver                 1.389025e+08\n",
       "WestTexNewMexico       1.445218e+08\n",
       "PhoenixTucson          1.956433e+08\n",
       "Houston                2.031679e+08\n",
       "DallasFtWorth          2.084193e+08\n",
       "NewYork                2.407341e+08\n",
       "Plains                 3.111885e+08\n",
       "LosAngeles             5.078965e+08\n",
       "Midsouth               5.083494e+08\n",
       "GreatLakes             5.896425e+08\n",
       "Southeast              6.152384e+08\n",
       "Northeast              7.132809e+08\n",
       "SouthCentral           1.011280e+09\n",
       "California             1.028982e+09\n",
       "West                   1.086779e+09\n",
       "TotalUS                5.864740e+09\n",
       "Name: Total Volume, dtype: float64"
      ]
     },
     "execution_count": 11,
     "metadata": {},
     "output_type": "execute_result"
    }
   ],
   "source": [
    "X.groupby(['region'])['Total Volume'].sum().sort_values()"
   ]
  },
  {
   "cell_type": "code",
   "execution_count": 12,
   "metadata": {},
   "outputs": [],
   "source": [
    "mask = (X['region']=='TotalUS')#&(X['type']=='conventional')"
   ]
  },
  {
   "cell_type": "code",
   "execution_count": 13,
   "metadata": {},
   "outputs": [],
   "source": [
    "d1 = X[mask].groupby(['date','type']).agg({'Total Volume':'sum',\n",
    "                                           'price':'sum'}).reset_index()\n",
    "d2 = pd.crosstab(\n",
    "    index = d1.date,\n",
    "    columns = d1.type,\n",
    "    values = d1['Total Volume'],\n",
    "    aggfunc='sum'\n",
    ")\n",
    "p2 = pd.crosstab(\n",
    "    index = d1.date,\n",
    "    columns = d1.type,\n",
    "    values = d1['price'],\n",
    "    aggfunc='sum'\n",
    ")\n",
    "\n",
    "\n"
   ]
  },
  {
   "cell_type": "code",
   "execution_count": 14,
   "metadata": {},
   "outputs": [],
   "source": [
    "p2.columns = ['c_price','o_price']"
   ]
  },
  {
   "cell_type": "code",
   "execution_count": 15,
   "metadata": {},
   "outputs": [],
   "source": [
    "ratios = d2.copy()\n",
    "ratios['conventional'] = d2.conventional/(d2.conventional+d2.organic)\n",
    "ratios['organic'] = d2.organic/(d2.conventional+d2.organic)"
   ]
  },
  {
   "cell_type": "code",
   "execution_count": 16,
   "metadata": {},
   "outputs": [
    {
     "data": {
      "text/html": [
       "<div>\n",
       "<style scoped>\n",
       "    .dataframe tbody tr th:only-of-type {\n",
       "        vertical-align: middle;\n",
       "    }\n",
       "\n",
       "    .dataframe tbody tr th {\n",
       "        vertical-align: top;\n",
       "    }\n",
       "\n",
       "    .dataframe thead th {\n",
       "        text-align: right;\n",
       "    }\n",
       "</style>\n",
       "<table border=\"1\" class=\"dataframe\">\n",
       "  <thead>\n",
       "    <tr style=\"text-align: right;\">\n",
       "      <th>type</th>\n",
       "      <th>conventional</th>\n",
       "      <th>organic</th>\n",
       "    </tr>\n",
       "    <tr>\n",
       "      <th>date</th>\n",
       "      <th></th>\n",
       "      <th></th>\n",
       "    </tr>\n",
       "  </thead>\n",
       "  <tbody>\n",
       "    <tr>\n",
       "      <th>2015-01-04</th>\n",
       "      <td>0.980809</td>\n",
       "      <td>0.019191</td>\n",
       "    </tr>\n",
       "    <tr>\n",
       "      <th>2015-01-11</th>\n",
       "      <td>0.977482</td>\n",
       "      <td>0.022518</td>\n",
       "    </tr>\n",
       "    <tr>\n",
       "      <th>2015-01-18</th>\n",
       "      <td>0.976035</td>\n",
       "      <td>0.023965</td>\n",
       "    </tr>\n",
       "    <tr>\n",
       "      <th>2015-01-25</th>\n",
       "      <td>0.980833</td>\n",
       "      <td>0.019167</td>\n",
       "    </tr>\n",
       "    <tr>\n",
       "      <th>2015-02-01</th>\n",
       "      <td>0.983679</td>\n",
       "      <td>0.016321</td>\n",
       "    </tr>\n",
       "    <tr>\n",
       "      <th>...</th>\n",
       "      <td>...</td>\n",
       "      <td>...</td>\n",
       "    </tr>\n",
       "    <tr>\n",
       "      <th>2018-02-25</th>\n",
       "      <td>0.964807</td>\n",
       "      <td>0.035193</td>\n",
       "    </tr>\n",
       "    <tr>\n",
       "      <th>2018-03-04</th>\n",
       "      <td>0.961430</td>\n",
       "      <td>0.038570</td>\n",
       "    </tr>\n",
       "    <tr>\n",
       "      <th>2018-03-11</th>\n",
       "      <td>0.960482</td>\n",
       "      <td>0.039518</td>\n",
       "    </tr>\n",
       "    <tr>\n",
       "      <th>2018-03-18</th>\n",
       "      <td>0.961084</td>\n",
       "      <td>0.038916</td>\n",
       "    </tr>\n",
       "    <tr>\n",
       "      <th>2018-03-25</th>\n",
       "      <td>0.965311</td>\n",
       "      <td>0.034689</td>\n",
       "    </tr>\n",
       "  </tbody>\n",
       "</table>\n",
       "<p>169 rows × 2 columns</p>\n",
       "</div>"
      ],
      "text/plain": [
       "type        conventional   organic\n",
       "date                              \n",
       "2015-01-04      0.980809  0.019191\n",
       "2015-01-11      0.977482  0.022518\n",
       "2015-01-18      0.976035  0.023965\n",
       "2015-01-25      0.980833  0.019167\n",
       "2015-02-01      0.983679  0.016321\n",
       "...                  ...       ...\n",
       "2018-02-25      0.964807  0.035193\n",
       "2018-03-04      0.961430  0.038570\n",
       "2018-03-11      0.960482  0.039518\n",
       "2018-03-18      0.961084  0.038916\n",
       "2018-03-25      0.965311  0.034689\n",
       "\n",
       "[169 rows x 2 columns]"
      ]
     },
     "execution_count": 16,
     "metadata": {},
     "output_type": "execute_result"
    }
   ],
   "source": [
    "ratios"
   ]
  },
  {
   "cell_type": "code",
   "execution_count": 36,
   "metadata": {},
   "outputs": [],
   "source": [
    "Xt = p2.copy()\n",
    "Xt['int'] = 1\n",
    "\n",
    "yt = ratios.copy()"
   ]
  },
  {
   "cell_type": "code",
   "execution_count": 37,
   "metadata": {},
   "outputs": [],
   "source": [
    "coefs = np.linalg.pinv(Xt.T@Xt)@(Xt.T@yt)"
   ]
  },
  {
   "cell_type": "code",
   "execution_count": 71,
   "metadata": {},
   "outputs": [
    {
     "name": "stdout",
     "output_type": "stream",
     "text": [
      "coefs: \n",
      " [[-0.03627305  0.03627305]\n",
      " [ 0.00943814 -0.00943814]\n",
      " [ 0.99702661  0.00297339]]\n",
      "coef summations: \n",
      " [ 1.61676228e-15 -1.31266525e-14  1.00000000e+00]\n",
      "Feature coefficients sum over axis 1 to equal 0, and the intercepts sum to 1.\n"
     ]
    }
   ],
   "source": [
    "print('coefs: \\n',np.array(coefs))\n",
    "print('coef summations: \\n',np.array(coefs).sum(axis=1))\n",
    "print(\"Feature coefficients sum over axis 1 to equal 0, and the intercepts sum to 1.\")"
   ]
  },
  {
   "cell_type": "code",
   "execution_count": 42,
   "metadata": {},
   "outputs": [],
   "source": [
    "preds = Xt@np.array(coefs)"
   ]
  },
  {
   "cell_type": "code",
   "execution_count": 59,
   "metadata": {},
   "outputs": [],
   "source": [
    "norm = preds.sum(axis=1)\n",
    "\n",
    "preds = preds.divide(norm,axis=0)"
   ]
  },
  {
   "cell_type": "code",
   "execution_count": 60,
   "metadata": {},
   "outputs": [
    {
     "data": {
      "text/plain": [
       "[<matplotlib.lines.Line2D at 0x1a0fe868fd0>]"
      ]
     },
     "execution_count": 60,
     "metadata": {},
     "output_type": "execute_result"
    },
    {
     "data": {
      "image/png": "[encoded data removed]",
      "text/plain": [
       "<Figure size 640x480 with 1 Axes>"
      ]
     },
     "metadata": {},
     "output_type": "display_data"
    }
   ],
   "source": [
    "plt.plot(ratios['organic'])\n",
    "plt.plot(preds[1])"
   ]
  },
  {
   "cell_type": "code",
   "execution_count": 63,
   "metadata": {},
   "outputs": [
    {
     "data": {
      "text/html": [
       "<div>\n",
       "<style scoped>\n",
       "    .dataframe tbody tr th:only-of-type {\n",
       "        vertical-align: middle;\n",
       "    }\n",
       "\n",
       "    .dataframe tbody tr th {\n",
       "        vertical-align: top;\n",
       "    }\n",
       "\n",
       "    .dataframe thead th {\n",
       "        text-align: right;\n",
       "    }\n",
       "</style>\n",
       "<table border=\"1\" class=\"dataframe\">\n",
       "  <thead>\n",
       "    <tr style=\"text-align: right;\">\n",
       "      <th>type</th>\n",
       "      <th>conventional</th>\n",
       "      <th>organic</th>\n",
       "    </tr>\n",
       "  </thead>\n",
       "  <tbody>\n",
       "    <tr>\n",
       "      <th>0</th>\n",
       "      <td>0.916522</td>\n",
       "      <td>0.083478</td>\n",
       "    </tr>\n",
       "  </tbody>\n",
       "</table>\n",
       "</div>"
      ],
      "text/plain": [
       "type  conventional   organic\n",
       "0         0.916522  0.083478"
      ]
     },
     "execution_count": 63,
     "metadata": {},
     "output_type": "execute_result"
    }
   ],
   "source": [
    "pd.DataFrame([[3,3,1]])@coefs"
   ]
  },
  {
   "cell_type": "code",
   "execution_count": 66,
   "metadata": {},
   "outputs": [
    {
     "data": {
      "text/plain": [
       "0    1.0\n",
       "dtype: float64"
      ]
     },
     "execution_count": 66,
     "metadata": {},
     "output_type": "execute_result"
    }
   ],
   "source": [
    "(pd.DataFrame([[3,3,1]])@coefs).sum(axis=1)"
   ]
  },
  {
   "cell_type": "code",
   "execution_count": null,
   "metadata": {},
   "outputs": [],
   "source": []
  }
 ],
 "metadata": {
  "kernelspec": {
   "display_name": ".venv",
   "language": "python",
   "name": "python3"
  },
  "language_info": {
   "codemirror_mode": {
    "name": "ipython",
    "version": 3
   },
   "file_extension": ".py",
   "mimetype": "text/x-python",
   "name": "python",
   "nbconvert_exporter": "python",
   "pygments_lexer": "ipython3",
   "version": "3.11.3"
  }
 },
 "nbformat": 4,
 "nbformat_minor": 2
}
