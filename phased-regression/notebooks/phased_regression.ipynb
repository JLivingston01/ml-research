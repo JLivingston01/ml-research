{
 "cells": [
  {
   "cell_type": "code",
   "execution_count": 1,
   "metadata": {},
   "outputs": [],
   "source": [
    "from sklearn.pipeline import Pipeline\n",
    "from sklearn.linear_model import LinearRegression\n",
    "from sklearn.preprocessing import MinMaxScaler\n",
    "from sklearn.model_selection import train_test_split\n",
    "from sklearn.metrics import r2_score\n",
    "from sklearn.cluster import KMeans\n",
    "from sklearn.datasets import load_diabetes\n",
    "from sklearn.base import BaseEstimator,clone\n",
    "\n",
    "import pandas as pd\n",
    "import numpy as np\n"
   ]
  },
  {
   "cell_type": "code",
   "execution_count": 2,
   "metadata": {},
   "outputs": [],
   "source": [
    "X,y = load_diabetes(return_X_y=True,as_frame=True)"
   ]
  },
  {
   "cell_type": "code",
   "execution_count": 3,
   "metadata": {},
   "outputs": [],
   "source": [
    "X_train,X_test,y_train,y_test=train_test_split(X,y,test_size=.2,random_state=42,shuffle=True)"
   ]
  },
  {
   "cell_type": "code",
   "execution_count": 4,
   "metadata": {},
   "outputs": [],
   "source": [
    "model = LinearRegression().fit(X_train,y_train)\n",
    "y_fit,y_pred = pd.Series(model.predict(X_train),index=X_train.index),pd.Series(model.predict(X_test),index=X_test.index)\n"
   ]
  },
  {
   "cell_type": "code",
   "execution_count": 5,
   "metadata": {},
   "outputs": [
    {
     "data": {
      "text/plain": [
       "0.4526027629719196"
      ]
     },
     "execution_count": 5,
     "metadata": {},
     "output_type": "execute_result"
    }
   ],
   "source": [
    "r2_score(y_test,y_pred)"
   ]
  },
  {
   "cell_type": "code",
   "execution_count": 47,
   "metadata": {},
   "outputs": [],
   "source": [
    "class PhasedRegressor(BaseEstimator):\n",
    "\n",
    "    def __init__(self,learner=LinearRegression(),\n",
    "                 phase_detector=KMeans(n_clusters=2,random_state=42,n_init='auto')) -> None:\n",
    "        super().__init__()\n",
    "\n",
    "        self.learner = learner\n",
    "        self.phase_detector = phase_detector\n",
    "\n",
    "    def fit(self,X,y):\n",
    "\n",
    "        self.phase_detector.fit(X)\n",
    "\n",
    "        phases = self.phase_detector.predict(X)\n",
    "\n",
    "        self.models = {}\n",
    "        self.phases = list(set(phases))\n",
    "\n",
    "        for phase in self.phases:\n",
    "            X_sub,y_sub = X[phases==phase],y[phases==phase]\n",
    "            model = clone(self.learner)\n",
    "            model.fit(X_sub,y_sub)\n",
    "            self.models[phase]=model\n",
    "\n",
    "        return self\n",
    "    \n",
    "    def predict(self,X):\n",
    "\n",
    "        phases = self.phase_detector.predict(X)\n",
    "\n",
    "        sort_index = False\n",
    "        if type(X)==np.ndarray:\n",
    "            X = pd.DataFrame(X)\n",
    "            sort_index=True\n",
    "\n",
    "        predictions = []\n",
    "        for phase in self.phases:\n",
    "\n",
    "            X_sub = X[phases==phase]\n",
    "            y_hat = pd.Series(self.models[phase].predict(X_sub),index=X_sub.index)\n",
    "            predictions.append(y_hat)\n",
    "\n",
    "        y_out = pd.concat(predictions)[X.index]\n",
    "\n",
    "        return y_out\n",
    "\n",
    "\n"
   ]
  },
  {
   "cell_type": "code",
   "execution_count": 48,
   "metadata": {},
   "outputs": [],
   "source": [
    "m_phased= PhasedRegressor(\n",
    "    learner=Pipeline(\n",
    "        steps=[('scaler',MinMaxScaler()),\n",
    "               ('learner',LinearRegression())]\n",
    "        ),\n",
    "    phase_detector=Pipeline(\n",
    "        steps=[\n",
    "            #('scaler',MinMaxScaler()),\n",
    "            ('cluster',KMeans(n_clusters=2,\n",
    "                              random_state=42,\n",
    "                              n_init='auto'))\n",
    "            ]\n",
    "        ),\n",
    ")\n",
    "m_phased.fit(X_train,y_train)\n",
    "y_fit_2,y_pred_2 = m_phased.predict(X_train),m_phased.predict(X_test)"
   ]
  },
  {
   "cell_type": "code",
   "execution_count": 49,
   "metadata": {},
   "outputs": [
    {
     "data": {
      "text/plain": [
       "0.5484612333457959"
      ]
     },
     "execution_count": 49,
     "metadata": {},
     "output_type": "execute_result"
    }
   ],
   "source": [
    "r2_score(y_test,y_pred_2)"
   ]
  },
  {
   "cell_type": "code",
   "execution_count": null,
   "metadata": {},
   "outputs": [],
   "source": []
  },
  {
   "cell_type": "code",
   "execution_count": 58,
   "metadata": {},
   "outputs": [],
   "source": [
    "newpipe = Pipeline(\n",
    "    steps=[\n",
    "        ('scaler',MinMaxScaler()),\n",
    "        ('learner',PhasedRegressor(\n",
    "            learner=LinearRegression(),\n",
    "            phase_detector=KMeans(n_clusters=5,\n",
    "                              random_state=42,\n",
    "                              n_init='auto'),\n",
    "        ))\n",
    "    ]\n",
    ")"
   ]
  },
  {
   "cell_type": "code",
   "execution_count": 59,
   "metadata": {},
   "outputs": [
    {
     "data": {
      "text/html": [
       "<style>#sk-container-id-3 {color: black;background-color: white;}#sk-container-id-3 pre{padding: 0;}#sk-container-id-3 div.sk-toggleable {background-color: white;}#sk-container-id-3 label.sk-toggleable__label {cursor: pointer;display: block;width: 100%;margin-bottom: 0;padding: 0.3em;box-sizing: border-box;text-align: center;}#sk-container-id-3 label.sk-toggleable__label-arrow:before {content: \"▸\";float: left;margin-right: 0.25em;color: #696969;}#sk-container-id-3 label.sk-toggleable__label-arrow:hover:before {color: black;}#sk-container-id-3 div.sk-estimator:hover label.sk-toggleable__label-arrow:before {color: black;}#sk-container-id-3 div.sk-toggleable__content {max-height: 0;max-width: 0;overflow: hidden;text-align: left;background-color: #f0f8ff;}#sk-container-id-3 div.sk-toggleable__content pre {margin: 0.2em;color: black;border-radius: 0.25em;background-color: #f0f8ff;}#sk-container-id-3 input.sk-toggleable__control:checked~div.sk-toggleable__content {max-height: 200px;max-width: 100%;overflow: auto;}#sk-container-id-3 input.sk-toggleable__control:checked~label.sk-toggleable__label-arrow:before {content: \"▾\";}#sk-container-id-3 div.sk-estimator input.sk-toggleable__control:checked~label.sk-toggleable__label {background-color: #d4ebff;}#sk-container-id-3 div.sk-label input.sk-toggleable__control:checked~label.sk-toggleable__label {background-color: #d4ebff;}#sk-container-id-3 input.sk-hidden--visually {border: 0;clip: rect(1px 1px 1px 1px);clip: rect(1px, 1px, 1px, 1px);height: 1px;margin: -1px;overflow: hidden;padding: 0;position: absolute;width: 1px;}#sk-container-id-3 div.sk-estimator {font-family: monospace;background-color: #f0f8ff;border: 1px dotted black;border-radius: 0.25em;box-sizing: border-box;margin-bottom: 0.5em;}#sk-container-id-3 div.sk-estimator:hover {background-color: #d4ebff;}#sk-container-id-3 div.sk-parallel-item::after {content: \"\";width: 100%;border-bottom: 1px solid gray;flex-grow: 1;}#sk-container-id-3 div.sk-label:hover label.sk-toggleable__label {background-color: #d4ebff;}#sk-container-id-3 div.sk-serial::before {content: \"\";position: absolute;border-left: 1px solid gray;box-sizing: border-box;top: 0;bottom: 0;left: 50%;z-index: 0;}#sk-container-id-3 div.sk-serial {display: flex;flex-direction: column;align-items: center;background-color: white;padding-right: 0.2em;padding-left: 0.2em;position: relative;}#sk-container-id-3 div.sk-item {position: relative;z-index: 1;}#sk-container-id-3 div.sk-parallel {display: flex;align-items: stretch;justify-content: center;background-color: white;position: relative;}#sk-container-id-3 div.sk-item::before, #sk-container-id-3 div.sk-parallel-item::before {content: \"\";position: absolute;border-left: 1px solid gray;box-sizing: border-box;top: 0;bottom: 0;left: 50%;z-index: -1;}#sk-container-id-3 div.sk-parallel-item {display: flex;flex-direction: column;z-index: 1;position: relative;background-color: white;}#sk-container-id-3 div.sk-parallel-item:first-child::after {align-self: flex-end;width: 50%;}#sk-container-id-3 div.sk-parallel-item:last-child::after {align-self: flex-start;width: 50%;}#sk-container-id-3 div.sk-parallel-item:only-child::after {width: 0;}#sk-container-id-3 div.sk-dashed-wrapped {border: 1px dashed gray;margin: 0 0.4em 0.5em 0.4em;box-sizing: border-box;padding-bottom: 0.4em;background-color: white;}#sk-container-id-3 div.sk-label label {font-family: monospace;font-weight: bold;display: inline-block;line-height: 1.2em;}#sk-container-id-3 div.sk-label-container {text-align: center;}#sk-container-id-3 div.sk-container {/* jupyter's `normalize.less` sets `[hidden] { display: none; }` but bootstrap.min.css set `[hidden] { display: none !important; }` so we also need the `!important` here to be able to override the default hidden behavior on the sphinx rendered scikit-learn.org. See: https://github.com/scikit-learn/scikit-learn/issues/21755 */display: inline-block !important;position: relative;}#sk-container-id-3 div.sk-text-repr-fallback {display: none;}</style><div id=\"sk-container-id-3\" class=\"sk-top-container\"><div class=\"sk-text-repr-fallback\"><pre>Pipeline(steps=[(&#x27;scaler&#x27;, MinMaxScaler()),\n",
       "                (&#x27;learner&#x27;,\n",
       "                 PhasedRegressor(phase_detector=KMeans(n_clusters=5,\n",
       "                                                       n_init=&#x27;auto&#x27;,\n",
       "                                                       random_state=42)))])</pre><b>In a Jupyter environment, please rerun this cell to show the HTML representation or trust the notebook. <br />On GitHub, the HTML representation is unable to render, please try loading this page with nbviewer.org.</b></div><div class=\"sk-container\" hidden><div class=\"sk-item sk-dashed-wrapped\"><div class=\"sk-label-container\"><div class=\"sk-label sk-toggleable\"><input class=\"sk-toggleable__control sk-hidden--visually\" id=\"sk-estimator-id-15\" type=\"checkbox\" ><label for=\"sk-estimator-id-15\" class=\"sk-toggleable__label sk-toggleable__label-arrow\">Pipeline</label><div class=\"sk-toggleable__content\"><pre>Pipeline(steps=[(&#x27;scaler&#x27;, MinMaxScaler()),\n",
       "                (&#x27;learner&#x27;,\n",
       "                 PhasedRegressor(phase_detector=KMeans(n_clusters=5,\n",
       "                                                       n_init=&#x27;auto&#x27;,\n",
       "                                                       random_state=42)))])</pre></div></div></div><div class=\"sk-serial\"><div class=\"sk-item\"><div class=\"sk-estimator sk-toggleable\"><input class=\"sk-toggleable__control sk-hidden--visually\" id=\"sk-estimator-id-16\" type=\"checkbox\" ><label for=\"sk-estimator-id-16\" class=\"sk-toggleable__label sk-toggleable__label-arrow\">MinMaxScaler</label><div class=\"sk-toggleable__content\"><pre>MinMaxScaler()</pre></div></div></div><div class=\"sk-item sk-dashed-wrapped\"><div class=\"sk-label-container\"><div class=\"sk-label sk-toggleable\"><input class=\"sk-toggleable__control sk-hidden--visually\" id=\"sk-estimator-id-17\" type=\"checkbox\" ><label for=\"sk-estimator-id-17\" class=\"sk-toggleable__label sk-toggleable__label-arrow\">learner: PhasedRegressor</label><div class=\"sk-toggleable__content\"><pre>PhasedRegressor(phase_detector=KMeans(n_clusters=5, n_init=&#x27;auto&#x27;,\n",
       "                                      random_state=42))</pre></div></div></div><div class=\"sk-parallel\"><div class=\"sk-parallel-item\"><div class=\"sk-item\"><div class=\"sk-label-container\"><div class=\"sk-label sk-toggleable\"><input class=\"sk-toggleable__control sk-hidden--visually\" id=\"sk-estimator-id-18\" type=\"checkbox\" ><label for=\"sk-estimator-id-18\" class=\"sk-toggleable__label sk-toggleable__label-arrow\">learner: LinearRegression</label><div class=\"sk-toggleable__content\"><pre>LinearRegression()</pre></div></div></div><div class=\"sk-serial\"><div class=\"sk-item\"><div class=\"sk-estimator sk-toggleable\"><input class=\"sk-toggleable__control sk-hidden--visually\" id=\"sk-estimator-id-19\" type=\"checkbox\" ><label for=\"sk-estimator-id-19\" class=\"sk-toggleable__label sk-toggleable__label-arrow\">LinearRegression</label><div class=\"sk-toggleable__content\"><pre>LinearRegression()</pre></div></div></div></div></div></div><div class=\"sk-parallel-item\"><div class=\"sk-item\"><div class=\"sk-label-container\"><div class=\"sk-label sk-toggleable\"><input class=\"sk-toggleable__control sk-hidden--visually\" id=\"sk-estimator-id-20\" type=\"checkbox\" ><label for=\"sk-estimator-id-20\" class=\"sk-toggleable__label sk-toggleable__label-arrow\">phase_detector: KMeans</label><div class=\"sk-toggleable__content\"><pre>KMeans(n_clusters=5, n_init=&#x27;auto&#x27;, random_state=42)</pre></div></div></div><div class=\"sk-serial\"><div class=\"sk-item\"><div class=\"sk-estimator sk-toggleable\"><input class=\"sk-toggleable__control sk-hidden--visually\" id=\"sk-estimator-id-21\" type=\"checkbox\" ><label for=\"sk-estimator-id-21\" class=\"sk-toggleable__label sk-toggleable__label-arrow\">KMeans</label><div class=\"sk-toggleable__content\"><pre>KMeans(n_clusters=5, n_init=&#x27;auto&#x27;, random_state=42)</pre></div></div></div></div></div></div></div></div></div></div></div></div>"
      ],
      "text/plain": [
       "Pipeline(steps=[('scaler', MinMaxScaler()),\n",
       "                ('learner',\n",
       "                 PhasedRegressor(phase_detector=KMeans(n_clusters=5,\n",
       "                                                       n_init='auto',\n",
       "                                                       random_state=42)))])"
      ]
     },
     "execution_count": 59,
     "metadata": {},
     "output_type": "execute_result"
    }
   ],
   "source": [
    "newpipe.fit(X_train,y_train)"
   ]
  },
  {
   "cell_type": "code",
   "execution_count": 60,
   "metadata": {},
   "outputs": [],
   "source": [
    "y_fit_2b,y_pred_2b = newpipe.predict(X_train),newpipe.predict(X_test)"
   ]
  },
  {
   "cell_type": "code",
   "execution_count": 61,
   "metadata": {},
   "outputs": [
    {
     "data": {
      "text/plain": [
       "0.5103436295431442"
      ]
     },
     "execution_count": 61,
     "metadata": {},
     "output_type": "execute_result"
    }
   ],
   "source": [
    "r2_score(y_test,y_pred_2b)"
   ]
  },
  {
   "cell_type": "code",
   "execution_count": 65,
   "metadata": {},
   "outputs": [],
   "source": [
    "scores = []\n",
    "for k in range(2,10):\n",
    "    newpipe = Pipeline(\n",
    "        steps=[\n",
    "            ('scaler',MinMaxScaler()),\n",
    "            ('learner',PhasedRegressor(\n",
    "                learner=LinearRegression(),\n",
    "                phase_detector=KMeans(n_clusters=k,\n",
    "                                random_state=42,\n",
    "                                n_init='auto'),\n",
    "            ))\n",
    "        ]\n",
    "    )\n",
    "    newpipe.fit(X_train,y_train)\n",
    "    y_fit_2b,y_pred_2b = newpipe.predict(X_train),newpipe.predict(X_test)\n",
    "    score = r2_score(y_test,y_pred_2b)\n",
    "    scores.append(score)"
   ]
  },
  {
   "cell_type": "code",
   "execution_count": 66,
   "metadata": {},
   "outputs": [
    {
     "data": {
      "text/plain": [
       "[0.5052553198901297,\n",
       " 0.5165272347409509,\n",
       " 0.5435518732264449,\n",
       " 0.5103436295431442,\n",
       " 0.49033323963049524,\n",
       " 0.4214028112583782,\n",
       " 0.32576285191313914,\n",
       " 0.2609231468711787]"
      ]
     },
     "execution_count": 66,
     "metadata": {},
     "output_type": "execute_result"
    }
   ],
   "source": [
    "scores"
   ]
  },
  {
   "cell_type": "code",
   "execution_count": null,
   "metadata": {},
   "outputs": [],
   "source": []
  },
  {
   "cell_type": "code",
   "execution_count": null,
   "metadata": {},
   "outputs": [],
   "source": []
  },
  {
   "cell_type": "code",
   "execution_count": 13,
   "metadata": {},
   "outputs": [
    {
     "data": {
      "text/plain": [
       "0.5484612333457959"
      ]
     },
     "execution_count": 13,
     "metadata": {},
     "output_type": "execute_result"
    }
   ],
   "source": [
    "clusterpipe = Pipeline(steps=[\n",
    "    #('scaler',MinMaxScaler()),\n",
    "    ('learner',KMeans(n_clusters=2,random_state=42,n_init='auto',))\n",
    "])\n",
    "\n",
    "clusters = clusterpipe.fit(X_train)\n",
    "phases = clusters.predict(X_train)\n",
    "\n",
    "models = {}\n",
    "\n",
    "m1 = Pipeline(\n",
    "    steps=[\n",
    "    ('scaler',MinMaxScaler()),\n",
    "    ('learner',LinearRegression())\n",
    "    ]).fit(\n",
    "    X_train[phases==1],\n",
    "    y_train[phases==1]\n",
    ")\n",
    "\n",
    "m2 = Pipeline(\n",
    "    steps=[\n",
    "    ('scaler',MinMaxScaler()),\n",
    "    ('learner',LinearRegression())\n",
    "    ]).fit(\n",
    "    X_train[phases==0],\n",
    "    y_train[phases==0],\n",
    ")\n",
    "\n",
    "test_phases = clusters.predict(X_test)\n",
    "\n",
    "y_pred_3a = m1.predict(X_test)\n",
    "y_pred_3b = m2.predict(X_test)\n",
    "\n",
    "y_pred_3=np.where(test_phases==0,y_pred_3b,y_pred_3a)\n",
    "r2_score(y_test,y_pred_3)"
   ]
  },
  {
   "cell_type": "code",
   "execution_count": 14,
   "metadata": {},
   "outputs": [
    {
     "data": {
      "text/plain": [
       "array([  30.02980749,  -19.76916428,  149.48552181,   80.34963348,\n",
       "       -408.73238331,  317.88236326,   93.67878524,   96.57298029,\n",
       "        206.92536503,   24.37251176])"
      ]
     },
     "execution_count": 14,
     "metadata": {},
     "output_type": "execute_result"
    }
   ],
   "source": [
    "m1['learner'].coef_"
   ]
  },
  {
   "cell_type": "code",
   "execution_count": 15,
   "metadata": {},
   "outputs": [
    {
     "data": {
      "text/plain": [
       "array([  -2.23604303,  -30.24622829,   72.61588291,   73.83905683,\n",
       "        956.93693181, -748.35824352, -615.46574734,  -15.78482306,\n",
       "       -106.69843169,  -14.68376578])"
      ]
     },
     "execution_count": 15,
     "metadata": {},
     "output_type": "execute_result"
    }
   ],
   "source": [
    "m2['learner'].coef_"
   ]
  },
  {
   "cell_type": "code",
   "execution_count": null,
   "metadata": {},
   "outputs": [],
   "source": []
  },
  {
   "cell_type": "code",
   "execution_count": 16,
   "metadata": {},
   "outputs": [],
   "source": [
    "clusterpipe = Pipeline(steps=[\n",
    "    ('scaler',MinMaxScaler()),\n",
    "    ('learner',KMeans(n_clusters=2,random_state=42,n_init='auto',))\n",
    "])\n",
    "\n",
    "clusters = clusterpipe.fit(X_train)\n",
    "phases = clusters.predict(X_train)\n",
    "\n",
    "models = {}\n",
    "\n",
    "for phase in list(set(phases)):\n",
    "\n",
    "    m1 = Pipeline(\n",
    "        steps=[\n",
    "        ('scaler',MinMaxScaler()),\n",
    "        ('learner',LinearRegression())\n",
    "        ]).fit(\n",
    "        X_train[phases==phase],\n",
    "        y_train[phases==phase]\n",
    "    )\n",
    "    models[phase]=m1\n",
    "\n",
    "\n",
    "\n",
    "test_phases = clusters.predict(X_test)\n",
    "\n",
    "predictions = []\n",
    "for phase in list(set(phases)):\n",
    "\n",
    "    X_sub = X_test[test_phases==phase]\n",
    "    y_hat = pd.Series(models[phase].predict(X_sub),index=X_sub.index)\n",
    "    predictions.append(y_hat)\n",
    "\n",
    "y_out = pd.concat(predictions)\n",
    "\n"
   ]
  },
  {
   "cell_type": "code",
   "execution_count": 19,
   "metadata": {},
   "outputs": [
    {
     "data": {
      "text/plain": [
       "{0: Pipeline(steps=[('scaler', MinMaxScaler()), ('learner', LinearRegression())]),\n",
       " 1: Pipeline(steps=[('scaler', MinMaxScaler()), ('learner', LinearRegression())])}"
      ]
     },
     "execution_count": 19,
     "metadata": {},
     "output_type": "execute_result"
    }
   ],
   "source": [
    "models"
   ]
  },
  {
   "cell_type": "code",
   "execution_count": 20,
   "metadata": {},
   "outputs": [
    {
     "data": {
      "text/plain": [
       "0.5052553198901297"
      ]
     },
     "execution_count": 20,
     "metadata": {},
     "output_type": "execute_result"
    }
   ],
   "source": [
    "\n",
    "y_pred_3a = models[0].predict(X_test)\n",
    "y_pred_3b = models[1].predict(X_test)\n",
    "\n",
    "y_pred_3=np.where(test_phases==0,y_pred_3a,y_pred_3b)\n",
    "r2_score(y_test,y_pred_3)"
   ]
  },
  {
   "cell_type": "code",
   "execution_count": 22,
   "metadata": {},
   "outputs": [
    {
     "data": {
      "text/plain": [
       "287    143.739410\n",
       "211    160.357855\n",
       "321    276.692900\n",
       "418     97.365282\n",
       "429    104.225632\n",
       "          ...    \n",
       "203    196.194665\n",
       "42     129.026063\n",
       "423    144.189722\n",
       "155    189.319435\n",
       "176    167.366096\n",
       "Length: 89, dtype: float64"
      ]
     },
     "execution_count": 22,
     "metadata": {},
     "output_type": "execute_result"
    }
   ],
   "source": [
    "y_out"
   ]
  },
  {
   "cell_type": "code",
   "execution_count": 24,
   "metadata": {},
   "outputs": [
    {
     "data": {
      "text/plain": [
       "0.5052553198901297"
      ]
     },
     "execution_count": 24,
     "metadata": {},
     "output_type": "execute_result"
    }
   ],
   "source": [
    "r2_score(y_test,y_out[y_test.index])"
   ]
  },
  {
   "cell_type": "code",
   "execution_count": null,
   "metadata": {},
   "outputs": [],
   "source": []
  }
 ],
 "metadata": {
  "kernelspec": {
   "display_name": ".venv",
   "language": "python",
   "name": "python3"
  },
  "language_info": {
   "codemirror_mode": {
    "name": "ipython",
    "version": 3
   },
   "file_extension": ".py",
   "mimetype": "text/x-python",
   "name": "python",
   "nbconvert_exporter": "python",
   "pygments_lexer": "ipython3",
   "version": "3.11.3"
  },
  "orig_nbformat": 4
 },
 "nbformat": 4,
 "nbformat_minor": 2
}
