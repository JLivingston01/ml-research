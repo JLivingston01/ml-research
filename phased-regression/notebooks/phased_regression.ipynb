{
 "cells": [
  {
   "cell_type": "code",
   "execution_count": 168,
   "metadata": {},
   "outputs": [],
   "source": [
    "from sklearn.pipeline import Pipeline\n",
    "from sklearn.linear_model import LinearRegression\n",
    "from sklearn.preprocessing import MinMaxScaler\n",
    "from sklearn.model_selection import train_test_split\n",
    "from sklearn.metrics import r2_score\n",
    "from sklearn.cluster import KMeans\n",
    "from sklearn.datasets import load_diabetes\n",
    "from sklearn.base import BaseEstimator,clone\n",
    "\n",
    "import pandas as pd\n",
    "import numpy as np\n"
   ]
  },
  {
   "cell_type": "code",
   "execution_count": 169,
   "metadata": {},
   "outputs": [],
   "source": [
    "X,y = load_diabetes(return_X_y=True,as_frame=True)"
   ]
  },
  {
   "cell_type": "code",
   "execution_count": 170,
   "metadata": {},
   "outputs": [],
   "source": [
    "X_train,X_test,y_train,y_test=train_test_split(X,y,test_size=.2,random_state=42,shuffle=True)"
   ]
  },
  {
   "cell_type": "code",
   "execution_count": 171,
   "metadata": {},
   "outputs": [],
   "source": [
    "model = LinearRegression().fit(X_train,y_train)\n",
    "y_fit,y_pred = pd.Series(model.predict(X_train),index=X_train.index),pd.Series(model.predict(X_test),index=X_test.index)\n"
   ]
  },
  {
   "cell_type": "code",
   "execution_count": 172,
   "metadata": {},
   "outputs": [
    {
     "data": {
      "text/plain": [
       "0.4526027629719196"
      ]
     },
     "execution_count": 172,
     "metadata": {},
     "output_type": "execute_result"
    }
   ],
   "source": [
    "r2_score(y_test,y_pred)"
   ]
  },
  {
   "cell_type": "code",
   "execution_count": 177,
   "metadata": {},
   "outputs": [],
   "source": [
    "class PhasedRegressor(BaseEstimator):\n",
    "\n",
    "    def __init__(self,learner=LinearRegression(),\n",
    "                 phase_detector=KMeans(n_clusters=2,random_state=42,n_init='auto')) -> None:\n",
    "        super().__init__()\n",
    "\n",
    "        self.learner = learner\n",
    "        self.phase_detector = phase_detector\n",
    "\n",
    "    def fit(self,X,y):\n",
    "\n",
    "        self.phase_detector.fit(X)\n",
    "\n",
    "        phases = self.phase_detector.predict(X)\n",
    "\n",
    "        self.models = {}\n",
    "\n",
    "        for phase in list(set(phases)):\n",
    "            X_sub,y_sub = X[phases==phase],y[phases==phase]\n",
    "            model = clone(self.learner)\n",
    "            model.fit(X_sub,y_sub)\n",
    "            self.models[phase]=model\n",
    "\n",
    "        return self\n",
    "    \n",
    "    def predict(self,X):\n",
    "\n",
    "        phases = self.phase_detector.predict(X)\n",
    "\n",
    "        sort_index = False\n",
    "        if type(X)==np.ndarray:\n",
    "            X = pd.DataFrame(X)\n",
    "            sort_index=True\n",
    "\n",
    "        predictions = []\n",
    "        for phase in list(set(phases)):\n",
    "            X_sub = X[phases==phase]\n",
    "            y_pred = pd.Series(self.models[phase].predict(X_sub),index=X_sub.index)\n",
    "            predictions.append(y_pred)\n",
    "\n",
    "        y_out = pd.concat(predictions)[X.index]\n",
    "        \n",
    "\n",
    "        return y_out\n",
    "\n",
    "\n"
   ]
  },
  {
   "cell_type": "code",
   "execution_count": 184,
   "metadata": {},
   "outputs": [],
   "source": [
    "m_phased= PhasedRegressor(\n",
    "    learner=Pipeline(\n",
    "        steps=[('scaler',MinMaxScaler()),\n",
    "               ('learner',LinearRegression())]\n",
    "        ),\n",
    "    phase_detector=Pipeline(\n",
    "        steps=[\n",
    "            ('scaler',MinMaxScaler()),\n",
    "            ('cluster',KMeans(n_clusters=2,\n",
    "                              random_state=42,\n",
    "                              n_init='auto'))\n",
    "            ]\n",
    "        ),\n",
    ")\n",
    "m_phased.fit(X_train,y_train)\n",
    "y_fit_2,y_pred_2 = m_phased.predict(X_train),m_phased.predict(X_test)"
   ]
  },
  {
   "cell_type": "code",
   "execution_count": 191,
   "metadata": {},
   "outputs": [
    {
     "data": {
      "text/plain": [
       "array([-2.09892263e+01, -1.42108547e-13,  1.20705545e+02,  7.58307792e+01,\n",
       "       -3.69506651e+02,  2.66706408e+02,  1.13368483e+02,  8.90691724e+01,\n",
       "        2.33246441e+02,  1.12675196e+00])"
      ]
     },
     "execution_count": 191,
     "metadata": {},
     "output_type": "execute_result"
    }
   ],
   "source": [
    "m_phased.models[0]['learner'].coef_\n",
    "#m_phased.models[1]['learner'].coef_"
   ]
  },
  {
   "cell_type": "code",
   "execution_count": 185,
   "metadata": {},
   "outputs": [
    {
     "data": {
      "text/plain": [
       "0.11794716352895751"
      ]
     },
     "execution_count": 185,
     "metadata": {},
     "output_type": "execute_result"
    }
   ],
   "source": [
    "r2_score(y_pred_2,y_test)"
   ]
  },
  {
   "cell_type": "code",
   "execution_count": null,
   "metadata": {},
   "outputs": [],
   "source": [
    "y_pred_2"
   ]
  },
  {
   "cell_type": "code",
   "execution_count": null,
   "metadata": {},
   "outputs": [],
   "source": [
    "y_test"
   ]
  },
  {
   "cell_type": "code",
   "execution_count": null,
   "metadata": {},
   "outputs": [],
   "source": [
    "r2_score(y_pred_2[y_test.index],y_test)"
   ]
  },
  {
   "cell_type": "code",
   "execution_count": null,
   "metadata": {},
   "outputs": [],
   "source": []
  },
  {
   "cell_type": "code",
   "execution_count": 180,
   "metadata": {},
   "outputs": [],
   "source": []
  },
  {
   "cell_type": "code",
   "execution_count": 181,
   "metadata": {},
   "outputs": [],
   "source": []
  },
  {
   "cell_type": "code",
   "execution_count": 192,
   "metadata": {},
   "outputs": [
    {
     "data": {
      "text/plain": [
       "0.5052553198901297"
      ]
     },
     "execution_count": 192,
     "metadata": {},
     "output_type": "execute_result"
    }
   ],
   "source": [
    "clusterpipe = Pipeline(steps=[\n",
    "    ('scaler',MinMaxScaler()),\n",
    "    ('learner',KMeans(n_clusters=2,random_state=42,n_init='auto',))\n",
    "])\n",
    "\n",
    "clusters = clusterpipe.fit(X_train)\n",
    "phases = clusters.predict(X_train)\n",
    "\n",
    "models = {}\n",
    "\n",
    "m1 = Pipeline(\n",
    "    steps=[\n",
    "    ('scaler',MinMaxScaler()),\n",
    "    ('learner',LinearRegression())\n",
    "    ]).fit(\n",
    "    X_train[phases==1],\n",
    "    y_train[phases==1]\n",
    "    #learner__sample_weight=weights\n",
    ")\n",
    "\n",
    "m2 = Pipeline(\n",
    "    steps=[\n",
    "    ('scaler',MinMaxScaler()),\n",
    "    ('learner',LinearRegression())\n",
    "    ]).fit(\n",
    "    X_train[phases==0],\n",
    "    y_train[phases==0],\n",
    "    #learner__sample_weight=(1-weights)\n",
    ")\n",
    "\n",
    "test_phases = clusters.predict(X_test)\n",
    "\n",
    "y_pred_3a = m1.predict(X_test)\n",
    "y_pred_3b = m2.predict(X_test)\n",
    "\n",
    "y_pred_3=np.where(test_phases==0,y_pred_3b,y_pred_3a)\n",
    "r2_score(y_test,y_pred_3)"
   ]
  },
  {
   "cell_type": "code",
   "execution_count": 189,
   "metadata": {},
   "outputs": [
    {
     "data": {
      "text/plain": [
       "array([  137.78155368,  -207.39404378,   663.60523181,   382.59196098,\n",
       "       -1580.07478883,  1060.72843836,   530.10140134,   429.73307733,\n",
       "        1015.30235634,   120.08338012])"
      ]
     },
     "execution_count": 189,
     "metadata": {},
     "output_type": "execute_result"
    }
   ],
   "source": [
    "m1['learner'].coef_"
   ]
  },
  {
   "cell_type": "code",
   "execution_count": 190,
   "metadata": {},
   "outputs": [
    {
     "data": {
      "text/plain": [
       "array([  -11.83767991,  -317.30666534,   333.53177012,   302.07137143,\n",
       "        4967.65841785, -4492.0815502 , -2199.62797768,  -142.586663  ,\n",
       "        -575.12938558,   -69.50978863])"
      ]
     },
     "execution_count": 190,
     "metadata": {},
     "output_type": "execute_result"
    }
   ],
   "source": [
    "m2['learner'].coef_"
   ]
  },
  {
   "cell_type": "code",
   "execution_count": null,
   "metadata": {},
   "outputs": [],
   "source": []
  },
  {
   "cell_type": "code",
   "execution_count": null,
   "metadata": {},
   "outputs": [],
   "source": [
    "clusterpipe = Pipeline(steps=[\n",
    "    ('scaler',MinMaxScaler()),\n",
    "    ('learner',KMeans(n_clusters=2,random_state=42,n_init='auto',))\n",
    "])\n",
    "\n",
    "clusters = clusterpipe.fit(X_train)\n",
    "phases = clusters.predict(X_train)\n",
    "\n",
    "models = {}\n",
    "\n",
    "for phase in list(set(phases)):\n",
    "\n",
    "    m1 = Pipeline(\n",
    "        steps=[\n",
    "        ('scaler',MinMaxScaler()),\n",
    "        ('learner',LinearRegression())\n",
    "        ]).fit(\n",
    "        X_train[phases==1],\n",
    "        y_train[phases==1]\n",
    "        #learner__sample_weight=weights\n",
    "    )\n",
    "    \n",
    "test_phases = clusters.predict(X_test)\n",
    "\n",
    "y_pred_3a = m1.predict(X_test)\n",
    "y_pred_3b = m2.predict(X_test)\n",
    "\n",
    "y_pred_3=np.where(test_phases==0,y_pred_3b,y_pred_3a)\n",
    "r2_score(y_test,y_pred_3)"
   ]
  }
 ],
 "metadata": {
  "kernelspec": {
   "display_name": ".venv",
   "language": "python",
   "name": "python3"
  },
  "language_info": {
   "codemirror_mode": {
    "name": "ipython",
    "version": 3
   },
   "file_extension": ".py",
   "mimetype": "text/x-python",
   "name": "python",
   "nbconvert_exporter": "python",
   "pygments_lexer": "ipython3",
   "version": "3.11.3"
  },
  "orig_nbformat": 4
 },
 "nbformat": 4,
 "nbformat_minor": 2
}
