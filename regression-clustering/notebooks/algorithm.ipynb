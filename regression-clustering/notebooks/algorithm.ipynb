{
 "cells": [
  {
   "cell_type": "code",
   "execution_count": 1,
   "metadata": {},
   "outputs": [],
   "source": [
    "from sklearn.pipeline import Pipeline\n",
    "from sklearn.linear_model import LinearRegression\n",
    "from sklearn.preprocessing import MinMaxScaler\n",
    "from sklearn.model_selection import train_test_split\n",
    "from sklearn.metrics import r2_score\n",
    "from sklearn.cluster import KMeans\n",
    "from sklearn.datasets import load_diabetes\n",
    "from sklearn.base import BaseEstimator,clone\n",
    "import random\n",
    "from scipy.spatial.distance import cdist\n",
    "\n",
    "import pandas as pd\n",
    "import numpy as np\n"
   ]
  },
  {
   "cell_type": "code",
   "execution_count": 2,
   "metadata": {},
   "outputs": [],
   "source": [
    "X,y = load_diabetes(return_X_y=True,as_frame=False)"
   ]
  },
  {
   "cell_type": "code",
   "execution_count": 3,
   "metadata": {},
   "outputs": [],
   "source": [
    "X_train,X_test,y_train,y_test=train_test_split(X,y,test_size=.2,random_state=42,shuffle=True)"
   ]
  },
  {
   "cell_type": "markdown",
   "metadata": {},
   "source": [
    "1. Initiate k centroids\n",
    "2. Form clusters about n-centroids\n",
    "3. Build k regressions by cluster\n",
    "4. Evaluate points errors for k models\n",
    "5. Assign point to cluster with smallest model error\n",
    "6. Adjust centroid\n"
   ]
  },
  {
   "cell_type": "code",
   "execution_count": 14,
   "metadata": {},
   "outputs": [],
   "source": [
    "class ClusterRegression(BaseEstimator):\n",
    "\n",
    "    def __init__(self,k,learner,max_iter) -> None:\n",
    "        super().__init__()\n",
    "\n",
    "        self.k=k\n",
    "        self.learner=learner\n",
    "        self.max_iter=max_iter\n",
    "\n",
    "    def fit(self,X,y):\n",
    "\n",
    "                \n",
    "        random.seed(42)\n",
    "        # Init centroids\n",
    "        centroid_index = random.sample(range(0,len(X)),1)\n",
    "        self.centroids = X[centroid_index]\n",
    "\n",
    "        X_train_new = X\n",
    "\n",
    "        for init_iter in range(self.k-1):\n",
    "\n",
    "            X_train_new = np.delete(X_train_new,centroid_index,axis=0)\n",
    "            centroid_index = cdist(\n",
    "                self.centroids.mean(axis=0).reshape(1,X.shape[1]),\n",
    "                X_train_new,metric='euclidean'\n",
    "                )[0].argmax()\n",
    "            new_centroid = X_train_new[centroid_index].reshape(1,X_train_new.shape[1])\n",
    "\n",
    "            self.centroids = np.concatenate([self.centroids,new_centroid])\n",
    "\n",
    "        # Initial Cluster Label\n",
    "        labels = cdist(X,self.centroids,metric='euclidean').argmin(axis=1)\n",
    "        self.label_list = list(set(labels))\n",
    "\n",
    "        for e in range(self.max_iter):\n",
    "\n",
    "            # Make k regessions\n",
    "            self.model_dict = {}\n",
    "\n",
    "            for label in self.label_list:\n",
    "\n",
    "                Xt = X[labels==label]\n",
    "                yt = y[labels==label]\n",
    "                model = clone(self.learner)\n",
    "\n",
    "                model.fit(Xt,yt)\n",
    "                self.model_dict[label] = model\n",
    "\n",
    "            # Predict target for each point with each model, eval min error\n",
    "\n",
    "            labels = np.vstack(\n",
    "                [\n",
    "                (y - self.model_dict[label].predict(X))**2 \n",
    "                for label in self.label_list\n",
    "                ]\n",
    "                ).T.argmin(axis=1)\n",
    "\n",
    "            self.centroids = np.vstack([\n",
    "                X[labels==label].mean(axis=0) \n",
    "                for label in self.label_list])\n",
    "            \n",
    "            labels = cdist(X,self.centroids,metric='euclidean').argmin(axis=1)\n",
    "\n",
    "        return self\n",
    "\n",
    "    def predict(self,X):\n",
    "        \n",
    "        test_clusters = cdist(X,self.centroids,metric='euclidean').argmin(axis=1)\n",
    "\n",
    "        all_predictions = np.vstack([\n",
    "            self.model_dict[label].predict(X)\n",
    "            for label in self.label_list\n",
    "        ]).T\n",
    "\n",
    "        y_out = all_predictions[np.arange(len(all_predictions)), test_clusters]\n",
    "\n",
    "        return y_out\n",
    "\n",
    "        \n",
    "\n",
    "                        "
   ]
  },
  {
   "cell_type": "code",
   "execution_count": 15,
   "metadata": {},
   "outputs": [],
   "source": [
    "k = 2\n",
    "random.seed(42)\n",
    "epochs = 100\n",
    "\n",
    "model = ClusterRegression(k=k,learner=LinearRegression(),max_iter=epochs)\n",
    "\n",
    "model.fit(X_train,y_train)\n",
    "\n",
    "y_out = model.predict(X_test)"
   ]
  },
  {
   "cell_type": "code",
   "execution_count": 16,
   "metadata": {},
   "outputs": [
    {
     "data": {
      "text/plain": [
       "0.5606844077518386"
      ]
     },
     "execution_count": 16,
     "metadata": {},
     "output_type": "execute_result"
    }
   ],
   "source": [
    "r2_score(y_test,y_out)"
   ]
  },
  {
   "cell_type": "code",
   "execution_count": 17,
   "metadata": {},
   "outputs": [],
   "source": [
    "## Cluster then regression solution\n",
    "\n",
    "class PhasedRegressor(BaseEstimator):\n",
    "\n",
    "    def __init__(self,learner=LinearRegression(),\n",
    "                 phase_detector=KMeans(n_clusters=2,random_state=42,n_init='auto')) -> None:\n",
    "        super().__init__()\n",
    "\n",
    "        self.learner = learner\n",
    "        self.phase_detector = phase_detector\n",
    "\n",
    "    def fit(self,X,y):\n",
    "\n",
    "        self.phase_detector.fit(X)\n",
    "\n",
    "        phases = self.phase_detector.predict(X)\n",
    "\n",
    "        self.models = {}\n",
    "        self.phases = list(set(phases))\n",
    "\n",
    "        for phase in self.phases:\n",
    "            X_sub,y_sub = X[phases==phase],y[phases==phase]\n",
    "            model = clone(self.learner)\n",
    "            model.fit(X_sub,y_sub)\n",
    "            self.models[phase]=model\n",
    "\n",
    "        return self\n",
    "    \n",
    "    def predict(self,X):\n",
    "\n",
    "        phases = self.phase_detector.predict(X)\n",
    "\n",
    "        sort_index = False\n",
    "        if type(X)==np.ndarray:\n",
    "            X = pd.DataFrame(X)\n",
    "            sort_index=True\n",
    "\n",
    "        predictions = []\n",
    "        for phase in self.phases:\n",
    "\n",
    "            X_sub = X[phases==phase]\n",
    "            y_hat = pd.Series(self.models[phase].predict(X_sub),index=X_sub.index)\n",
    "            predictions.append(y_hat)\n",
    "\n",
    "        y_out = pd.concat(predictions)[X.index]\n",
    "\n",
    "        return y_out\n"
   ]
  },
  {
   "cell_type": "code",
   "execution_count": 18,
   "metadata": {},
   "outputs": [
    {
     "data": {
      "text/plain": [
       "0.5484612333457958"
      ]
     },
     "execution_count": 18,
     "metadata": {},
     "output_type": "execute_result"
    }
   ],
   "source": [
    "m_phased= PhasedRegressor(\n",
    "    learner=LinearRegression(),\n",
    "    phase_detector=KMeans(n_clusters=k,\n",
    "                              random_state=42,\n",
    "                              n_init='auto'),\n",
    ")\n",
    "m_phased.fit(X_train,y_train)\n",
    "y_fit_2,y_pred_2 = m_phased.predict(X_train),m_phased.predict(X_test)\n",
    "r2_score(y_test,y_pred_2)"
   ]
  },
  {
   "cell_type": "code",
   "execution_count": 21,
   "metadata": {},
   "outputs": [
    {
     "name": "stdout",
     "output_type": "stream",
     "text": [
      "2: score_cr = 0.5607; score_pr = 0.5485\n",
      "3: score_cr = 0.5673; score_pr = 0.5056\n",
      "4: score_cr = 0.5245; score_pr = 0.4271\n",
      "5: score_cr = 0.2821; score_pr = 0.4878\n",
      "6: score_cr = 0.4006; score_pr = 0.4688\n",
      "7: score_cr = 0.0111; score_pr = 0.4842\n",
      "8: score_cr = -3.6198; score_pr = 0.2458\n"
     ]
    }
   ],
   "source": [
    "for k in range(2,9):\n",
    "    model = ClusterRegression(k=k,learner=LinearRegression(),max_iter=epochs)\n",
    "\n",
    "    model.fit(X_train,y_train)\n",
    "\n",
    "    y_out = model.predict(X_test)\n",
    "    score_cr = r2_score(y_test,y_out)\n",
    "\n",
    "    m_phased= PhasedRegressor(\n",
    "        learner=LinearRegression(),\n",
    "        phase_detector=KMeans(n_clusters=k,\n",
    "                                random_state=42,\n",
    "                                n_init='auto'),\n",
    "    )\n",
    "    m_phased.fit(X_train,y_train)\n",
    "    y_fit_2,y_pred_2 = m_phased.predict(X_train),m_phased.predict(X_test)\n",
    "    score_pr = r2_score(y_test,y_pred_2)\n",
    "\n",
    "    print(f\"{k}: score_cr = {round(score_cr,4)}; score_pr = {round(score_pr,4)}\")\n",
    "    "
   ]
  },
  {
   "cell_type": "code",
   "execution_count": 11,
   "metadata": {},
   "outputs": [
    {
     "data": {
      "text/plain": [
       "0.5484612333457958"
      ]
     },
     "execution_count": 11,
     "metadata": {},
     "output_type": "execute_result"
    }
   ],
   "source": [
    "m_phased= PhasedRegressor(\n",
    "    learner=Pipeline(\n",
    "        steps=[\n",
    "            #('scaler',MinMaxScaler()),\n",
    "               ('learner',LinearRegression())]\n",
    "        ),\n",
    "    phase_detector=Pipeline(\n",
    "        steps=[\n",
    "            #('scaler',MinMaxScaler()),\n",
    "            ('cluster',KMeans(n_clusters=k,\n",
    "                              random_state=42,\n",
    "                              n_init='auto'))\n",
    "            ]\n",
    "        ),\n",
    ")\n",
    "m_phased.fit(X_train,y_train)\n",
    "y_fit_2,y_pred_2 = m_phased.predict(X_train),m_phased.predict(X_test)\n",
    "\n",
    "r2_score(y_test,y_pred_2)"
   ]
  },
  {
   "cell_type": "code",
   "execution_count": null,
   "metadata": {},
   "outputs": [],
   "source": [
    "newpipe = Pipeline(\n",
    "    steps=[\n",
    "        ('scaler',MinMaxScaler()),\n",
    "        ('learner',PhasedRegressor(\n",
    "            learner=LinearRegression(),\n",
    "            phase_detector=KMeans(n_clusters=5,\n",
    "                              random_state=42,\n",
    "                              n_init='auto'),\n",
    "        ))\n",
    "    ]\n",
    ")\n",
    "newpipe.fit(X_train,y_train)\n",
    "y_fit_2b,y_pred_2b = newpipe.predict(X_train),newpipe.predict(X_test)\n",
    "r2_score(y_test,y_pred_2b)"
   ]
  },
  {
   "cell_type": "code",
   "execution_count": null,
   "metadata": {},
   "outputs": [],
   "source": []
  },
  {
   "cell_type": "code",
   "execution_count": null,
   "metadata": {},
   "outputs": [],
   "source": [
    "k = 4\n",
    "random.seed(42)\n",
    "epochs = 100\n",
    "\n",
    "# Init centroids\n",
    "centroid_index = random.sample(range(0,len(X_train)),1)\n",
    "centroids = X_train[centroid_index]\n",
    "\n",
    "X_train_new = X_train\n",
    "\n",
    "for init_iter in range(k-1):\n",
    "\n",
    "    X_train_new = np.delete(X_train_new,centroid_index,axis=0)\n",
    "    centroid_index = cdist(\n",
    "        centroids.mean(axis=0).reshape(1,X_train.shape[1]),\n",
    "        X_train_new,metric='euclidean'\n",
    "        )[0].argmax()\n",
    "    new_centroid = X_train_new[centroid_index].reshape(1,X_train_new.shape[1])\n",
    "\n",
    "    centroids = np.concatenate([centroids,new_centroid])\n",
    "\n",
    "# Initial Cluster Label\n",
    "labels = cdist(X_train,centroids,metric='euclidean').argmin(axis=1)\n",
    "label_list = list(set(labels))\n"
   ]
  },
  {
   "cell_type": "code",
   "execution_count": null,
   "metadata": {},
   "outputs": [],
   "source": [
    "for e in range(epochs):\n",
    "\n",
    "    # Make k regessions\n",
    "    model_dict = {}\n",
    "\n",
    "    for label in label_list:\n",
    "\n",
    "        Xt = X_train[labels==label]\n",
    "        yt = y_train[labels==label]\n",
    "\n",
    "        model = LinearRegression().fit(Xt,yt)\n",
    "        model_dict[label] = model\n",
    "\n",
    "    # Predict target for each point with each model, eval min error\n",
    "\n",
    "    labels = np.vstack(\n",
    "        [\n",
    "        (y_train - model_dict[label].predict(X_train))**2 \n",
    "        for label in label_list\n",
    "        ]\n",
    "        ).T.argmin(axis=1)\n",
    "\n",
    "    centroids = np.vstack([\n",
    "        X_train[labels==label].mean(axis=0) \n",
    "        for label in label_list])\n",
    "    \n",
    "    \n",
    "    labels = cdist(X_train,centroids,metric='euclidean').argmin(axis=1)\n",
    "    "
   ]
  },
  {
   "cell_type": "code",
   "execution_count": null,
   "metadata": {},
   "outputs": [],
   "source": [
    "test_clusters = cdist(X_test,centroids,metric='euclidean').argmin(axis=1)"
   ]
  },
  {
   "cell_type": "code",
   "execution_count": null,
   "metadata": {},
   "outputs": [],
   "source": [
    "all_predictions = np.vstack([\n",
    "    model_dict[label].predict(X_test)\n",
    "    for label in label_list\n",
    "]).T"
   ]
  },
  {
   "cell_type": "code",
   "execution_count": null,
   "metadata": {},
   "outputs": [],
   "source": [
    "y_out = all_predictions[np.arange(len(all_predictions)), test_clusters]\n",
    "\n",
    "#np.array([arr[i] for arr,i in zip(all_predictions,test_clusters)])"
   ]
  },
  {
   "cell_type": "code",
   "execution_count": null,
   "metadata": {},
   "outputs": [],
   "source": [
    "r2_score(y_test,y_out)"
   ]
  },
  {
   "cell_type": "code",
   "execution_count": null,
   "metadata": {},
   "outputs": [],
   "source": [
    "m_phased= PhasedRegressor(\n",
    "    learner=LinearRegression(),\n",
    "    phase_detector=KMeans(n_clusters=k,\n",
    "                              random_state=42,\n",
    "                              n_init='auto'),\n",
    ")\n",
    "m_phased.fit(X_train,y_train)\n",
    "y_fit_2,y_pred_2 = m_phased.predict(X_train),m_phased.predict(X_test)"
   ]
  },
  {
   "cell_type": "code",
   "execution_count": null,
   "metadata": {},
   "outputs": [],
   "source": [
    "r2_score(y_test,y_pred_2)"
   ]
  },
  {
   "cell_type": "code",
   "execution_count": null,
   "metadata": {},
   "outputs": [],
   "source": []
  }
 ],
 "metadata": {
  "kernelspec": {
   "display_name": ".venv",
   "language": "python",
   "name": "python3"
  },
  "language_info": {
   "codemirror_mode": {
    "name": "ipython",
    "version": 3
   },
   "file_extension": ".py",
   "mimetype": "text/x-python",
   "name": "python",
   "nbconvert_exporter": "python",
   "pygments_lexer": "ipython3",
   "version": "3.11.3"
  },
  "orig_nbformat": 4
 },
 "nbformat": 4,
 "nbformat_minor": 2
}
