{
 "cells": [
  {
   "cell_type": "markdown",
   "metadata": {},
   "source": [
    "# Decoupling Generalized Linear Model Distribution Choices from Canonical Link Functions\n"
   ]
  },
  {
   "cell_type": "markdown",
   "metadata": {},
   "source": [
    "## Sample Data"
   ]
  },
  {
   "cell_type": "code",
   "execution_count": 56,
   "metadata": {},
   "outputs": [],
   "source": [
    "import numpy as np\n",
    "from scipy.optimize import minimize\n",
    "\n",
    "# Generate some example data\n",
    "np.random.seed(0)\n",
    "n_samples = 100\n",
    "X = np.random.rand(n_samples, 2)  # two predictors\n",
    "true_beta = np.array([1.0, -2.0])  # true coefficients\n",
    "true_intercept = 0.5\n",
    "\n",
    "# Generate Poisson-distributed response variable\n",
    "mu_ = np.exp(true_intercept + X @ true_beta)\n",
    "y = np.random.poisson(mu_)\n"
   ]
  },
  {
   "cell_type": "code",
   "execution_count": 57,
   "metadata": {},
   "outputs": [
    {
     "name": "stdout",
     "output_type": "stream",
     "text": [
      "Estimated intercept: 0.2844226540589341\n",
      "Estimated coefficients: [ 0.8605868  -1.44508577]\n"
     ]
    }
   ],
   "source": [
    "\n",
    "lambda_ = mu_\n",
    "#y = np.random.poisson(lambda_)\n",
    "\n",
    "# Define the negative log-likelihood for Poisson regression\n",
    "def poisson_neg_log_likelihood(params, X, y):\n",
    "    intercept = params[0]\n",
    "    beta = params[1:]\n",
    "    linear_prediction = intercept + X @ beta\n",
    "    mu_ = np.exp(linear_prediction)\n",
    "    lambda_ = mu_\n",
    "    neg_log_likelihood = -np.sum(y * linear_prediction - lambda_)\n",
    "    return neg_log_likelihood\n",
    "\n",
    "# Initial guess for the parameters\n",
    "initial_params = np.zeros(X.shape[1] + 1)\n",
    "\n",
    "# Perform the optimization\n",
    "result = minimize(poisson_neg_log_likelihood, initial_params, args=(X, y), method='L-BFGS-B')\n",
    "\n",
    "# Extract the estimated parameters\n",
    "estimated_intercept = result.x[0]\n",
    "estimated_beta = result.x[1:]\n",
    "\n",
    "print(f\"Estimated intercept: {estimated_intercept}\")\n",
    "print(f\"Estimated coefficients: {estimated_beta}\")\n"
   ]
  },
  {
   "cell_type": "code",
   "execution_count": 61,
   "metadata": {},
   "outputs": [
    {
     "name": "stdout",
     "output_type": "stream",
     "text": [
      "Estimated intercept: 0.331515065362078\n",
      "Estimated coefficients: [ 0.61513282 -1.23538605]\n"
     ]
    }
   ],
   "source": [
    "\n",
    "lambda_ = 1/mu_\n",
    "scale_ = 1/lambda_\n",
    "\n",
    "#y = np.random.exponential(scale_)\n",
    "\n",
    "def exponential_neg_log_likelihood(params, X, y):\n",
    "    intercept = params[0]\n",
    "    beta = params[1:]\n",
    "    linear_prediction = intercept + X @ beta\n",
    "    mu_ = np.exp(linear_prediction)\n",
    "    lambda_ = 1/mu_\n",
    "    neg_log_likelihood = -np.sum(-linear_prediction - lambda_ * y)\n",
    "    return neg_log_likelihood\n",
    "\n",
    "\n",
    "# Initial guess for the parameters\n",
    "initial_params = np.zeros(X.shape[1] + 1)\n",
    "\n",
    "# Perform the optimization\n",
    "result = minimize(exponential_neg_log_likelihood, initial_params, args=(X, y), method='L-BFGS-B')\n",
    "\n",
    "# Extract the estimated parameters\n",
    "estimated_intercept = result.x[0]\n",
    "estimated_beta = result.x[1:]\n",
    "\n",
    "print(f\"Estimated intercept: {estimated_intercept}\")\n",
    "print(f\"Estimated coefficients: {estimated_beta}\")\n",
    "\n"
   ]
  },
  {
   "cell_type": "code",
   "execution_count": 68,
   "metadata": {},
   "outputs": [
    {
     "name": "stdout",
     "output_type": "stream",
     "text": [
      "Estimated intercept: -0.16342307289174707\n",
      "Estimated coefficients: [ 1.87157176 -2.29067147]\n"
     ]
    }
   ],
   "source": [
    "\n",
    "def gaussian_neg_log_likelihood(params, X, y):\n",
    "    intercept = params[0]\n",
    "    beta = params[1:]\n",
    "    linear_prediction = intercept + X @ beta\n",
    "    mu_ = np.exp(linear_prediction)\n",
    "    residuals = y-mu_\n",
    "    sigma = np.sqrt(np.mean(residuals**2))\n",
    "    neg_log_likelihood = -np.sum(-.5 * ((residuals) ** 2))\n",
    "    return neg_log_likelihood\n",
    "\n",
    "# Define the negative log-likelihood for Gaussian regression\n",
    "def gaussian_neg_log_likelihood(params, X, y):\n",
    "    intercept = params[0]\n",
    "    beta = params[1:]\n",
    "    linear_prediction = intercept + X @ beta\n",
    "    mu_ = np.exp(linear_prediction)\n",
    "    residuals = y - mu_\n",
    "    sigma = np.sqrt(np.mean(residuals**2))  # Estimate sigma from the residuals\n",
    "    neg_log_likelihood = 0.5 * np.sum(np.log(sigma**2) + (residuals**2) / (sigma**2))\n",
    "    return neg_log_likelihood\n",
    "\n",
    "\n",
    "# Initial guess for the parameters\n",
    "initial_params = np.zeros(X.shape[1] + 1)\n",
    "\n",
    "# Perform the optimization\n",
    "result = minimize(gaussian_neg_log_likelihood, initial_params, args=(X, y), method='L-BFGS-B')\n",
    "\n",
    "# Extract the estimated parameters\n",
    "estimated_intercept = result.x[0]\n",
    "estimated_beta = result.x[1:]\n",
    "\n",
    "print(f\"Estimated intercept: {estimated_intercept}\")\n",
    "print(f\"Estimated coefficients: {estimated_beta}\")\n",
    "\n"
   ]
  },
  {
   "cell_type": "code",
   "execution_count": 69,
   "metadata": {},
   "outputs": [
    {
     "data": {
      "text/plain": [
       "  message: CONVERGENCE: NORM_OF_PROJECTED_GRADIENT_<=_PGTOL\n",
       "  success: True\n",
       "   status: 0\n",
       "      fun: 64.4080494260154\n",
       "        x: [-1.634e-01  1.872e+00 -2.291e+00]\n",
       "      nit: 16\n",
       "      jac: [ 9.948e-06  5.684e-06  2.842e-06]\n",
       "     nfev: 72\n",
       "     njev: 18\n",
       " hess_inv: <3x3 LbfgsInvHessProduct with dtype=float64>"
      ]
     },
     "execution_count": 69,
     "metadata": {},
     "output_type": "execute_result"
    }
   ],
   "source": [
    "result"
   ]
  },
  {
   "cell_type": "code",
   "execution_count": null,
   "metadata": {},
   "outputs": [],
   "source": []
  }
 ],
 "metadata": {
  "kernelspec": {
   "display_name": ".venv",
   "language": "python",
   "name": "python3"
  },
  "language_info": {
   "codemirror_mode": {
    "name": "ipython",
    "version": 3
   },
   "file_extension": ".py",
   "mimetype": "text/x-python",
   "name": "python",
   "nbconvert_exporter": "python",
   "pygments_lexer": "ipython3",
   "version": "3.11.3"
  }
 },
 "nbformat": 4,
 "nbformat_minor": 2
}
