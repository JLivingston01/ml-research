{
 "cells": [
  {
   "cell_type": "code",
   "execution_count": 1,
   "metadata": {},
   "outputs": [],
   "source": [
    "from sklearn.pipeline import Pipeline, FeatureUnion\n",
    "from sklearn.metrics import r2_score\n",
    "from sklearn.preprocessing import MinMaxScaler,FunctionTransformer,OneHotEncoder\n",
    "from sklearn.model_selection import train_test_split\n",
    "from sklearn.datasets import fetch_openml\n",
    "import pandas as pd\n",
    "from sklearn.utils import resample\n",
    "from sklearn.linear_model import LogisticRegression\n",
    "import numpy as np\n",
    "from sklearn.compose import ColumnTransformer\n",
    "import matplotlib.pyplot as plt"
   ]
  },
  {
   "cell_type": "code",
   "execution_count": 2,
   "metadata": {},
   "outputs": [],
   "source": [
    "Xraw,yraw = fetch_openml(data_id=43927,return_X_y=True,as_frame=True)"
   ]
  },
  {
   "cell_type": "code",
   "execution_count": 3,
   "metadata": {},
   "outputs": [],
   "source": [
    "Xraw['DATE']=pd.to_datetime(Xraw['year'].astype(str)+\"-\"+Xraw['month'].astype(str)+\"-\"+Xraw['day'].astype(str))"
   ]
  },
  {
   "cell_type": "code",
   "execution_count": 4,
   "metadata": {},
   "outputs": [],
   "source": [
    "mask = (Xraw['region']=='WestTexNewMexico')&(Xraw['type']=='organic')\n",
    "\n",
    "allDat = pd.concat([Xraw,yraw],axis=1)\n",
    "\n",
    "subset = allDat[mask].copy()"
   ]
  },
  {
   "cell_type": "code",
   "execution_count": 9,
   "metadata": {},
   "outputs": [],
   "source": [
    "def doy(X):\n",
    "    result = pd.Series(X['DATE'].dt.day_of_year,\n",
    "        index=X.index).to_frame()\n",
    "    return result\n",
    "\n",
    "def month(X):\n",
    "    result = pd.Series(X['DATE'].dt.month,\n",
    "        index=X.index).to_frame()\n",
    "    return result\n",
    "\n",
    "def dow(X):\n",
    "    result = pd.Series(X['DATE'].dt.day_of_week,\n",
    "        index=X.index).to_frame()\n",
    "    return result\n",
    "\n",
    "def sin_seas(X):\n",
    "    result = np.sin(2*np.pi*X/366)\n",
    "    return result\n",
    "\n",
    "def cos_seas(X):\n",
    "    result = np.cos(2*np.pi*X/366)\n",
    "    return result\n",
    "\n",
    "transformer = ColumnTransformer(\n",
    "    transformers=[\n",
    "        (\n",
    "            'seas',\n",
    "            FeatureUnion(\n",
    "                [\n",
    "                    (\n",
    "                        'sinu',\n",
    "                        Pipeline(\n",
    "                            steps=[\n",
    "                                ('doy',FunctionTransformer(func=doy,feature_names_out='one-to-one')),\n",
    "                                (\n",
    "                                    '_',\n",
    "                                    FeatureUnion(\n",
    "                                        [\n",
    "                                            ('sin',FunctionTransformer(sin_seas,feature_names_out='one-to-one')),\n",
    "                                            ('cos',FunctionTransformer(cos_seas,feature_names_out='one-to-one')),\n",
    "                                        ]\n",
    "                                    )\n",
    "                                )\n",
    "                            ]\n",
    "                        )\n",
    "                    ),\n",
    "                    (\n",
    "                        'dummy',\n",
    "                        Pipeline(\n",
    "                            steps=[\n",
    "                                (\n",
    "                                    'nums',\n",
    "                                    FeatureUnion(\n",
    "                                        [\n",
    "                                            ('month',FunctionTransformer(month,feature_names_out='one-to-one')),\n",
    "                                            ('dow',FunctionTransformer(dow,feature_names_out='one-to-one')),\n",
    "                                        ]\n",
    "                                    )\n",
    "                                ),\n",
    "                                ('oh',OneHotEncoder(drop='first',handle_unknown='ignore'))\n",
    "                            ]\n",
    "                        )\n",
    "                    )\n",
    "                    \n",
    "                ]\n",
    "            )\n",
    "            ,\n",
    "            ['DATE']\n",
    "         )\n",
    "    ],\n",
    "    remainder='passthrough'\n",
    ")"
   ]
  },
  {
   "cell_type": "code",
   "execution_count": 10,
   "metadata": {},
   "outputs": [],
   "source": [
    "X=subset[['DATE','AveragePrice']].copy()\n",
    "y=subset['Total Volume'].copy()\n"
   ]
  },
  {
   "cell_type": "code",
   "execution_count": 11,
   "metadata": {},
   "outputs": [
    {
     "data": {
      "text/plain": [
       "<Compressed Sparse Row sparse matrix of dtype 'float64'\n",
       "\twith 646 stored elements and shape (166, 14)>"
      ]
     },
     "execution_count": 11,
     "metadata": {},
     "output_type": "execute_result"
    }
   ],
   "source": [
    "transformer.fit_transform(X)"
   ]
  },
  {
   "cell_type": "code",
   "execution_count": 12,
   "metadata": {},
   "outputs": [
    {
     "data": {
      "text/plain": [
       "array(['seas__sinu__sin__DATE', 'seas__sinu__cos__DATE',\n",
       "       'seas__dummy__month__DATE_2', 'seas__dummy__month__DATE_3',\n",
       "       'seas__dummy__month__DATE_4', 'seas__dummy__month__DATE_5',\n",
       "       'seas__dummy__month__DATE_6', 'seas__dummy__month__DATE_7',\n",
       "       'seas__dummy__month__DATE_8', 'seas__dummy__month__DATE_9',\n",
       "       'seas__dummy__month__DATE_10', 'seas__dummy__month__DATE_11',\n",
       "       'seas__dummy__month__DATE_12', 'remainder__AveragePrice'],\n",
       "      dtype=object)"
      ]
     },
     "execution_count": 12,
     "metadata": {},
     "output_type": "execute_result"
    }
   ],
   "source": [
    "transformer.get_feature_names_out()"
   ]
  },
  {
   "cell_type": "code",
   "execution_count": 16,
   "metadata": {},
   "outputs": [
    {
     "data": {
      "text/plain": [
       "<Compressed Sparse Row sparse matrix of dtype 'float64'\n",
       "\twith 148 stored elements and shape (166, 11)>"
      ]
     },
     "execution_count": 16,
     "metadata": {},
     "output_type": "execute_result"
    }
   ],
   "source": [
    "fu = FeatureUnion(\n",
    "    [\n",
    "        ('month',FunctionTransformer(month,feature_names_out='one-to-one')),\n",
    "        ('dow',FunctionTransformer(dow,feature_names_out='one-to-one')),\n",
    "    ]\n",
    ")\n",
    "\n",
    "oh = OneHotEncoder(drop='first',handle_unknown='ignore')\n",
    "\n",
    "s1 = fu.fit_transform(X[['DATE']])\n",
    "\n",
    "oh.fit_transform(s1)"
   ]
  },
  {
   "cell_type": "code",
   "execution_count": 17,
   "metadata": {},
   "outputs": [],
   "source": [
    "feature_union = FeatureUnion([\n",
    "    ('month', FunctionTransformer(month, feature_names_out='one-to-one')),\n",
    "    ('dow', FunctionTransformer(dow, feature_names_out='one-to-one'))\n",
    "])\n",
    "\n",
    "# Pipeline to apply FeatureUnion followed by OneHotEncoder\n",
    "pipeline = Pipeline([\n",
    "    ('date_features', feature_union),\n",
    "    ('onehot', OneHotEncoder(drop='first', handle_unknown='ignore'))\n",
    "])\n",
    "\n",
    "# ColumnTransformer to apply the pipeline to the DATE column\n",
    "transformer = ColumnTransformer(\n",
    "    transformers=[\n",
    "        ('date_pipeline', pipeline, ['DATE'])\n",
    "    ],\n",
    "    remainder='passthrough'\n",
    ")\n",
    "\n",
    "# Fit and transform the data\n",
    "transformed_data = transformer.fit_transform(X[['DATE']])"
   ]
  },
  {
   "cell_type": "code",
   "execution_count": null,
   "metadata": {},
   "outputs": [],
   "source": []
  }
 ],
 "metadata": {
  "kernelspec": {
   "display_name": ".venv",
   "language": "python",
   "name": "python3"
  },
  "language_info": {
   "codemirror_mode": {
    "name": "ipython",
    "version": 3
   },
   "file_extension": ".py",
   "mimetype": "text/x-python",
   "name": "python",
   "nbconvert_exporter": "python",
   "pygments_lexer": "ipython3",
   "version": "3.11.3"
  }
 },
 "nbformat": 4,
 "nbformat_minor": 2
}
