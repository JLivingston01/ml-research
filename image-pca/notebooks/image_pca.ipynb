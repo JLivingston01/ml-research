{
 "cells": [
  {
   "cell_type": "code",
   "execution_count": null,
   "metadata": {},
   "outputs": [],
   "source": [
    "from sklearn.pipeline import Pipeline\n",
    "from sklearn.linear_model import LinearRegression\n",
    "from sklearn.preprocessing import MinMaxScaler\n",
    "from sklearn.model_selection import train_test_split\n",
    "from sklearn.metrics import r2_score\n",
    "from sklearn.cluster import KMeans\n",
    "from sklearn.datasets import load_diabetes\n",
    "from sklearn.decomposition import PCA\n",
    "\n",
    "from sklearn.base import BaseEstimator,clone\n",
    "\n",
    "import pandas as pd\n",
    "import numpy as np\n",
    "\n",
    "import matplotlib.image as mplib \n",
    "import matplotlib.pyplot as plt\n"
   ]
  },
  {
   "cell_type": "code",
   "execution_count": null,
   "metadata": {},
   "outputs": [],
   "source": [
    "img = mplib.imread('../images/intersection1.jpg')\n"
   ]
  },
  {
   "cell_type": "code",
   "execution_count": null,
   "metadata": {},
   "outputs": [],
   "source": [
    "def image_downscale(img,features):\n",
    "    if type(img)==str:\n",
    "        img = mplib.imread(img)\n",
    "    dims = img.shape\n",
    "    img_r = np.reshape(img, (dims[0], dims[1]*dims[2]))\n",
    "    pca = PCA(features).fit(img_r) \n",
    "    img_transformed = pca.transform(img_r) \n",
    "    temp = pca.inverse_transform(img_transformed) \n",
    "    temp = np.reshape(temp, (dims[0],dims[1] ,dims[2]\n",
    "                             )).astype(int)\n",
    "    print(np.sum(pca.explained_variance_ratio_) )\n",
    "    return temp\n",
    "\n"
   ]
  },
  {
   "cell_type": "code",
   "execution_count": null,
   "metadata": {},
   "outputs": [],
   "source": [
    "print(img.shape)\n",
    "plt.imshow(img)\n",
    "plt.show()\n",
    "\n",
    "temp = image_downscale(img,features=100)\n",
    "\n",
    "print(temp.shape) \n",
    "plt.imshow(temp)\n",
    "plt.show()\n"
   ]
  },
  {
   "cell_type": "code",
   "execution_count": null,
   "metadata": {},
   "outputs": [],
   "source": [
    "for c in range(3):\n",
    "    plt.imshow(temp[:,:,c])\n",
    "    plt.show()"
   ]
  },
  {
   "cell_type": "code",
   "execution_count": null,
   "metadata": {},
   "outputs": [],
   "source": [
    "from sklearn.cluster import DBSCAN"
   ]
  },
  {
   "cell_type": "code",
   "execution_count": null,
   "metadata": {},
   "outputs": [],
   "source": [
    "\n",
    "plt.imshow(temp)\n",
    "plt.show()"
   ]
  },
  {
   "cell_type": "code",
   "execution_count": null,
   "metadata": {},
   "outputs": [],
   "source": [
    "channels = temp\n",
    "dims = channels.shape\n",
    "ball_size_x = 8\n",
    "channels_long = channels.reshape(dims[0]*dims[1],dims[2])\n",
    "model = DBSCAN(eps=(ball_size_x**2+ball_size_x**2+ball_size_x**2)**.5,\n",
    "               min_samples=10,metric='euclidean',n_jobs=2)\n",
    "model.fit(channels_long)\n",
    "labels = model.labels_\n",
    "labels_frame = labels.reshape(dims[:2])\n",
    "\n"
   ]
  },
  {
   "cell_type": "code",
   "execution_count": null,
   "metadata": {},
   "outputs": [],
   "source": [
    "\n",
    "plt.imshow(\n",
    "    np.where(labels_frame==-1,255,0)\n",
    ")"
   ]
  },
  {
   "cell_type": "code",
   "execution_count": null,
   "metadata": {},
   "outputs": [],
   "source": [
    "labels_img = np.vstack([labels,labels,labels]).T.reshape(channels.shape).astype(int)\n",
    "zeros_img = np.zeros(channels.shape).astype(int)"
   ]
  },
  {
   "cell_type": "code",
   "execution_count": null,
   "metadata": {},
   "outputs": [],
   "source": [
    "\n",
    "plt.imshow(\n",
    "    np.where(labels_img==0,channels , zeros_img)\n",
    ")"
   ]
  },
  {
   "cell_type": "code",
   "execution_count": null,
   "metadata": {},
   "outputs": [],
   "source": [
    "zeros_img"
   ]
  },
  {
   "cell_type": "code",
   "execution_count": null,
   "metadata": {},
   "outputs": [],
   "source": []
  }
 ],
 "metadata": {
  "kernelspec": {
   "display_name": ".venv",
   "language": "python",
   "name": "python3"
  },
  "language_info": {
   "codemirror_mode": {
    "name": "ipython",
    "version": 3
   },
   "file_extension": ".py",
   "mimetype": "text/x-python",
   "name": "python",
   "nbconvert_exporter": "python",
   "pygments_lexer": "ipython3",
   "version": "3.11.3"
  },
  "orig_nbformat": 4
 },
 "nbformat": 4,
 "nbformat_minor": 2
}
