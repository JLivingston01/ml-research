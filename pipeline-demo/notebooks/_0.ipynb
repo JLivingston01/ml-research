{
 "cells": [
  {
   "cell_type": "code",
   "execution_count": 73,
   "metadata": {},
   "outputs": [],
   "source": [
    "from sklearn.pipeline import Pipeline\n",
    "from sklearn.preprocessing import MaxAbsScaler,OneHotEncoder\n",
    "from sklearn.compose import ColumnTransformer\n",
    "from sklearn.linear_model import LogisticRegression\n",
    "\n",
    "import pandas as pd\n",
    "import os\n",
    "import sys\n",
    "from pathlib import Path\n",
    "\n",
    "import numpy as np"
   ]
  },
  {
   "cell_type": "code",
   "execution_count": 74,
   "metadata": {},
   "outputs": [],
   "source": [
    "home = str(Path.home())\n",
    "data = pd.read_csv(home+\"/downloads/NYPD_Hate_Crimes_20240917.csv\")"
   ]
  },
  {
   "cell_type": "code",
   "execution_count": 75,
   "metadata": {},
   "outputs": [
    {
     "data": {
      "text/html": [
       "<div>\n",
       "<style scoped>\n",
       "    .dataframe tbody tr th:only-of-type {\n",
       "        vertical-align: middle;\n",
       "    }\n",
       "\n",
       "    .dataframe tbody tr th {\n",
       "        vertical-align: top;\n",
       "    }\n",
       "\n",
       "    .dataframe thead th {\n",
       "        text-align: right;\n",
       "    }\n",
       "</style>\n",
       "<table border=\"1\" class=\"dataframe\">\n",
       "  <thead>\n",
       "    <tr style=\"text-align: right;\">\n",
       "      <th></th>\n",
       "      <th>Full Complaint ID</th>\n",
       "      <th>Complaint Year Number</th>\n",
       "      <th>Month Number</th>\n",
       "      <th>Record Create Date</th>\n",
       "      <th>Complaint Precinct Code</th>\n",
       "      <th>Patrol Borough Name</th>\n",
       "      <th>County</th>\n",
       "      <th>Law Code Category Description</th>\n",
       "      <th>Offense Description</th>\n",
       "      <th>PD Code Description</th>\n",
       "      <th>Bias Motive Description</th>\n",
       "      <th>Offense Category</th>\n",
       "      <th>Arrest Date</th>\n",
       "      <th>Arrest Id</th>\n",
       "    </tr>\n",
       "  </thead>\n",
       "  <tbody>\n",
       "    <tr>\n",
       "      <th>1761</th>\n",
       "      <td>201901012297417</td>\n",
       "      <td>2019</td>\n",
       "      <td>6</td>\n",
       "      <td>06/07/2019</td>\n",
       "      <td>10</td>\n",
       "      <td>PATROL BORO MAN SOUTH</td>\n",
       "      <td>NEW YORK</td>\n",
       "      <td>FELONY</td>\n",
       "      <td>MISCELLANEOUS PENAL LAW</td>\n",
       "      <td>AGGRAVATED HARASSMENT 1</td>\n",
       "      <td>ANTI-BLACK</td>\n",
       "      <td>Race/Color</td>\n",
       "      <td>NaN</td>\n",
       "      <td>M31697999</td>\n",
       "    </tr>\n",
       "    <tr>\n",
       "      <th>1762</th>\n",
       "      <td>201901312988617</td>\n",
       "      <td>2019</td>\n",
       "      <td>11</td>\n",
       "      <td>11/03/2019</td>\n",
       "      <td>13</td>\n",
       "      <td>PATROL BORO MAN SOUTH</td>\n",
       "      <td>NEW YORK</td>\n",
       "      <td>FELONY</td>\n",
       "      <td>MISCELLANEOUS PENAL LAW</td>\n",
       "      <td>AGGRAVATED HARASSMENT 1</td>\n",
       "      <td>ANTI-MALE HOMOSEXUAL (GAY)</td>\n",
       "      <td>Unclassified</td>\n",
       "      <td>NaN</td>\n",
       "      <td>M34672420</td>\n",
       "    </tr>\n",
       "    <tr>\n",
       "      <th>1763</th>\n",
       "      <td>201901712382117</td>\n",
       "      <td>2019</td>\n",
       "      <td>8</td>\n",
       "      <td>08/08/2019</td>\n",
       "      <td>17</td>\n",
       "      <td>PATROL BORO MAN SOUTH</td>\n",
       "      <td>NEW YORK</td>\n",
       "      <td>MISDEMEANOR</td>\n",
       "      <td>ASSAULT 3 &amp; RELATED OFFENSES</td>\n",
       "      <td>MENACING,UNCLASSIFIED</td>\n",
       "      <td>ANTI-MULTI-RACIAL GROUPS</td>\n",
       "      <td>Race/Color</td>\n",
       "      <td>NaN</td>\n",
       "      <td>M31713881</td>\n",
       "    </tr>\n",
       "    <tr>\n",
       "      <th>1764</th>\n",
       "      <td>201901812274317</td>\n",
       "      <td>2019</td>\n",
       "      <td>3</td>\n",
       "      <td>03/16/2019</td>\n",
       "      <td>18</td>\n",
       "      <td>PATROL BORO MAN SOUTH</td>\n",
       "      <td>NEW YORK</td>\n",
       "      <td>FELONY</td>\n",
       "      <td>ROBBERY</td>\n",
       "      <td>ROBBERY,PERSONAL ELECTRONIC DEVICE</td>\n",
       "      <td>ANTI-MALE HOMOSEXUAL (GAY)</td>\n",
       "      <td>Sexual Orientation</td>\n",
       "      <td>NaN</td>\n",
       "      <td>M31684401</td>\n",
       "    </tr>\n",
       "    <tr>\n",
       "      <th>1765</th>\n",
       "      <td>201901812890617</td>\n",
       "      <td>2019</td>\n",
       "      <td>10</td>\n",
       "      <td>10/05/2019</td>\n",
       "      <td>18</td>\n",
       "      <td>PATROL BORO MAN SOUTH</td>\n",
       "      <td>NEW YORK</td>\n",
       "      <td>MISDEMEANOR</td>\n",
       "      <td>CRIMINAL MISCHIEF &amp; RELATED OF</td>\n",
       "      <td>CRIMINAL MISCHIEF,UNCLASSIFIED 4</td>\n",
       "      <td>ANTI-MALE HOMOSEXUAL (GAY)</td>\n",
       "      <td>Sexual Orientation</td>\n",
       "      <td>NaN</td>\n",
       "      <td>M31719199</td>\n",
       "    </tr>\n",
       "    <tr>\n",
       "      <th>...</th>\n",
       "      <td>...</td>\n",
       "      <td>...</td>\n",
       "      <td>...</td>\n",
       "      <td>...</td>\n",
       "      <td>...</td>\n",
       "      <td>...</td>\n",
       "      <td>...</td>\n",
       "      <td>...</td>\n",
       "      <td>...</td>\n",
       "      <td>...</td>\n",
       "      <td>...</td>\n",
       "      <td>...</td>\n",
       "      <td>...</td>\n",
       "      <td>...</td>\n",
       "    </tr>\n",
       "    <tr>\n",
       "      <th>3073</th>\n",
       "      <td>202401412419617</td>\n",
       "      <td>2024</td>\n",
       "      <td>3</td>\n",
       "      <td>03/09/2024</td>\n",
       "      <td>14</td>\n",
       "      <td>PATROL BORO MAN SOUTH</td>\n",
       "      <td>NEW YORK</td>\n",
       "      <td>MISDEMEANOR</td>\n",
       "      <td>ASSAULT 3 &amp; RELATED OFFENSES</td>\n",
       "      <td>ASSAULT 3</td>\n",
       "      <td>ANTI-ASIAN</td>\n",
       "      <td>Race/Color</td>\n",
       "      <td>NaN</td>\n",
       "      <td>M36684260</td>\n",
       "    </tr>\n",
       "    <tr>\n",
       "      <th>3074</th>\n",
       "      <td>202401412419617</td>\n",
       "      <td>2024</td>\n",
       "      <td>3</td>\n",
       "      <td>03/09/2024</td>\n",
       "      <td>14</td>\n",
       "      <td>PATROL BORO MAN SOUTH</td>\n",
       "      <td>NEW YORK</td>\n",
       "      <td>MISDEMEANOR</td>\n",
       "      <td>ASSAULT 3 &amp; RELATED OFFENSES</td>\n",
       "      <td>ASSAULT 3</td>\n",
       "      <td>ANTI-ASIAN</td>\n",
       "      <td>Race/Color</td>\n",
       "      <td>NaN</td>\n",
       "      <td>M36684674</td>\n",
       "    </tr>\n",
       "    <tr>\n",
       "      <th>3075</th>\n",
       "      <td>202401412419717</td>\n",
       "      <td>2024</td>\n",
       "      <td>3</td>\n",
       "      <td>03/09/2024</td>\n",
       "      <td>14</td>\n",
       "      <td>PATROL BORO MAN SOUTH</td>\n",
       "      <td>NEW YORK</td>\n",
       "      <td>MISDEMEANOR</td>\n",
       "      <td>ASSAULT 3 &amp; RELATED OFFENSES</td>\n",
       "      <td>ASSAULT 3</td>\n",
       "      <td>ANTI-ASIAN</td>\n",
       "      <td>Race/Color</td>\n",
       "      <td>NaN</td>\n",
       "      <td>M36684675</td>\n",
       "    </tr>\n",
       "    <tr>\n",
       "      <th>3076</th>\n",
       "      <td>202401712080417</td>\n",
       "      <td>2024</td>\n",
       "      <td>1</td>\n",
       "      <td>01/08/2024</td>\n",
       "      <td>17</td>\n",
       "      <td>PATROL BORO MAN SOUTH</td>\n",
       "      <td>NEW YORK</td>\n",
       "      <td>MISDEMEANOR</td>\n",
       "      <td>ASSAULT 3 &amp; RELATED OFFENSES</td>\n",
       "      <td>ASSAULT 3</td>\n",
       "      <td>ANTI-JEWISH</td>\n",
       "      <td>Religion/Religious Practice</td>\n",
       "      <td>NaN</td>\n",
       "      <td>M36673135</td>\n",
       "    </tr>\n",
       "    <tr>\n",
       "      <th>3077</th>\n",
       "      <td>202401812161417</td>\n",
       "      <td>2024</td>\n",
       "      <td>1</td>\n",
       "      <td>01/29/2024</td>\n",
       "      <td>18</td>\n",
       "      <td>PATROL BORO MAN SOUTH</td>\n",
       "      <td>NEW YORK</td>\n",
       "      <td>MISDEMEANOR</td>\n",
       "      <td>ASSAULT 3 &amp; RELATED OFFENSES</td>\n",
       "      <td>ASSAULT 3</td>\n",
       "      <td>ANTI-JEWISH</td>\n",
       "      <td>Religion/Religious Practice</td>\n",
       "      <td>NaN</td>\n",
       "      <td>M36694620</td>\n",
       "    </tr>\n",
       "  </tbody>\n",
       "</table>\n",
       "<p>1317 rows × 14 columns</p>\n",
       "</div>"
      ],
      "text/plain": [
       "      Full Complaint ID  Complaint Year Number  Month Number  \\\n",
       "1761    201901012297417                   2019             6   \n",
       "1762    201901312988617                   2019            11   \n",
       "1763    201901712382117                   2019             8   \n",
       "1764    201901812274317                   2019             3   \n",
       "1765    201901812890617                   2019            10   \n",
       "...                 ...                    ...           ...   \n",
       "3073    202401412419617                   2024             3   \n",
       "3074    202401412419617                   2024             3   \n",
       "3075    202401412419717                   2024             3   \n",
       "3076    202401712080417                   2024             1   \n",
       "3077    202401812161417                   2024             1   \n",
       "\n",
       "     Record Create Date  Complaint Precinct Code    Patrol Borough Name  \\\n",
       "1761         06/07/2019                       10  PATROL BORO MAN SOUTH   \n",
       "1762         11/03/2019                       13  PATROL BORO MAN SOUTH   \n",
       "1763         08/08/2019                       17  PATROL BORO MAN SOUTH   \n",
       "1764         03/16/2019                       18  PATROL BORO MAN SOUTH   \n",
       "1765         10/05/2019                       18  PATROL BORO MAN SOUTH   \n",
       "...                 ...                      ...                    ...   \n",
       "3073         03/09/2024                       14  PATROL BORO MAN SOUTH   \n",
       "3074         03/09/2024                       14  PATROL BORO MAN SOUTH   \n",
       "3075         03/09/2024                       14  PATROL BORO MAN SOUTH   \n",
       "3076         01/08/2024                       17  PATROL BORO MAN SOUTH   \n",
       "3077         01/29/2024                       18  PATROL BORO MAN SOUTH   \n",
       "\n",
       "        County Law Code Category Description             Offense Description  \\\n",
       "1761  NEW YORK                        FELONY         MISCELLANEOUS PENAL LAW   \n",
       "1762  NEW YORK                        FELONY         MISCELLANEOUS PENAL LAW   \n",
       "1763  NEW YORK                   MISDEMEANOR    ASSAULT 3 & RELATED OFFENSES   \n",
       "1764  NEW YORK                        FELONY                         ROBBERY   \n",
       "1765  NEW YORK                   MISDEMEANOR  CRIMINAL MISCHIEF & RELATED OF   \n",
       "...        ...                           ...                             ...   \n",
       "3073  NEW YORK                   MISDEMEANOR    ASSAULT 3 & RELATED OFFENSES   \n",
       "3074  NEW YORK                   MISDEMEANOR    ASSAULT 3 & RELATED OFFENSES   \n",
       "3075  NEW YORK                   MISDEMEANOR    ASSAULT 3 & RELATED OFFENSES   \n",
       "3076  NEW YORK                   MISDEMEANOR    ASSAULT 3 & RELATED OFFENSES   \n",
       "3077  NEW YORK                   MISDEMEANOR    ASSAULT 3 & RELATED OFFENSES   \n",
       "\n",
       "                     PD Code Description     Bias Motive Description  \\\n",
       "1761             AGGRAVATED HARASSMENT 1                  ANTI-BLACK   \n",
       "1762             AGGRAVATED HARASSMENT 1  ANTI-MALE HOMOSEXUAL (GAY)   \n",
       "1763               MENACING,UNCLASSIFIED    ANTI-MULTI-RACIAL GROUPS   \n",
       "1764  ROBBERY,PERSONAL ELECTRONIC DEVICE  ANTI-MALE HOMOSEXUAL (GAY)   \n",
       "1765    CRIMINAL MISCHIEF,UNCLASSIFIED 4  ANTI-MALE HOMOSEXUAL (GAY)   \n",
       "...                                  ...                         ...   \n",
       "3073                           ASSAULT 3                  ANTI-ASIAN   \n",
       "3074                           ASSAULT 3                  ANTI-ASIAN   \n",
       "3075                           ASSAULT 3                  ANTI-ASIAN   \n",
       "3076                           ASSAULT 3                 ANTI-JEWISH   \n",
       "3077                           ASSAULT 3                 ANTI-JEWISH   \n",
       "\n",
       "                 Offense Category  Arrest Date  Arrest Id  \n",
       "1761                   Race/Color          NaN  M31697999  \n",
       "1762                 Unclassified          NaN  M34672420  \n",
       "1763                   Race/Color          NaN  M31713881  \n",
       "1764           Sexual Orientation          NaN  M31684401  \n",
       "1765           Sexual Orientation          NaN  M31719199  \n",
       "...                           ...          ...        ...  \n",
       "3073                   Race/Color          NaN  M36684260  \n",
       "3074                   Race/Color          NaN  M36684674  \n",
       "3075                   Race/Color          NaN  M36684675  \n",
       "3076  Religion/Religious Practice          NaN  M36673135  \n",
       "3077  Religion/Religious Practice          NaN  M36694620  \n",
       "\n",
       "[1317 rows x 14 columns]"
      ]
     },
     "execution_count": 75,
     "metadata": {},
     "output_type": "execute_result"
    }
   ],
   "source": [
    "data[~data['Arrest Id'].isna()]"
   ]
  },
  {
   "cell_type": "code",
   "execution_count": 76,
   "metadata": {},
   "outputs": [],
   "source": [
    "data['Arrested'] = np.where(~data['Arrest Id'].isna(),1,0)"
   ]
  },
  {
   "cell_type": "code",
   "execution_count": 77,
   "metadata": {},
   "outputs": [
    {
     "data": {
      "text/plain": [
       "array(['ANTI-JEWISH', 'ANTI-WHITE', 'ANTI-TRANSGENDER',\n",
       "       'ANTI-MALE HOMOSEXUAL (GAY)', 'ANTI-BLACK', 'ANTI-ASIAN',\n",
       "       'ANTI-FEMALE HOMOSEXUAL (LESBIAN)', 'ANTI-MUSLIM', 'ANTI-HISPANIC',\n",
       "       'ANTI-GENDER NON-CONFORMING', 'ANTI-ARAB',\n",
       "       'ANTI-PHYSICAL DISABILITY', 'ANTI-OTHER ETHNICITY',\n",
       "       'ANTI-CATHOLIC', 'ANTI-LGBT (MIXED GROUP)', 'ANTI-OTHER RELIGION',\n",
       "       'ANTI-RELIGIOUS PRACTICE GENERALLY', 'ANTI-PROTESTANT',\n",
       "       'ANTI-BUDDHIST', 'ANTI-FEMALE', 'ANTI-SIKH',\n",
       "       'ANTI-JEHOVAHS WITNESS', 'ANTI-EASTERN ORTHODOX',\n",
       "       'ANTI-MULTI-RACIAL GROUPS', 'ANTI-HINDU', 'ANTI-MORMON',\n",
       "       '60 YRS AND OLDER', 'ANTI-MALE'], dtype=object)"
      ]
     },
     "execution_count": 77,
     "metadata": {},
     "output_type": "execute_result"
    }
   ],
   "source": [
    "data['Bias Motive Description'].unique()"
   ]
  },
  {
   "cell_type": "code",
   "execution_count": 85,
   "metadata": {},
   "outputs": [],
   "source": [
    "features = [\n",
    "    'Patrol Borough Name',\n",
    "    'Law Code Category Description',\n",
    "    'Offense Description',\n",
    "    'Bias Motive Description'\n",
    "]\n",
    "target = 'Arrested'"
   ]
  },
  {
   "cell_type": "code",
   "execution_count": 86,
   "metadata": {},
   "outputs": [],
   "source": [
    "\n",
    "onehot_encoder = OneHotEncoder(drop='first',handle_unknown='ignore')\n",
    "onehot_features = [i for i in features]\n",
    "\n",
    "transformer = ColumnTransformer(\n",
    "    transformers=[\n",
    "        ('onehot',onehot_encoder,onehot_features)\n",
    "    ]\n",
    ")\n",
    "\n",
    "model = Pipeline(\n",
    "    steps=[\n",
    "        ('transformer',transformer),\n",
    "        ('learner',LogisticRegression())\n",
    "    ]\n",
    ")"
   ]
  },
  {
   "cell_type": "code",
   "execution_count": 87,
   "metadata": {},
   "outputs": [
    {
     "data": {
      "text/html": [
       "<style>#sk-container-id-5 {color: black;background-color: white;}#sk-container-id-5 pre{padding: 0;}#sk-container-id-5 div.sk-toggleable {background-color: white;}#sk-container-id-5 label.sk-toggleable__label {cursor: pointer;display: block;width: 100%;margin-bottom: 0;padding: 0.3em;box-sizing: border-box;text-align: center;}#sk-container-id-5 label.sk-toggleable__label-arrow:before {content: \"▸\";float: left;margin-right: 0.25em;color: #696969;}#sk-container-id-5 label.sk-toggleable__label-arrow:hover:before {color: black;}#sk-container-id-5 div.sk-estimator:hover label.sk-toggleable__label-arrow:before {color: black;}#sk-container-id-5 div.sk-toggleable__content {max-height: 0;max-width: 0;overflow: hidden;text-align: left;background-color: #f0f8ff;}#sk-container-id-5 div.sk-toggleable__content pre {margin: 0.2em;color: black;border-radius: 0.25em;background-color: #f0f8ff;}#sk-container-id-5 input.sk-toggleable__control:checked~div.sk-toggleable__content {max-height: 200px;max-width: 100%;overflow: auto;}#sk-container-id-5 input.sk-toggleable__control:checked~label.sk-toggleable__label-arrow:before {content: \"▾\";}#sk-container-id-5 div.sk-estimator input.sk-toggleable__control:checked~label.sk-toggleable__label {background-color: #d4ebff;}#sk-container-id-5 div.sk-label input.sk-toggleable__control:checked~label.sk-toggleable__label {background-color: #d4ebff;}#sk-container-id-5 input.sk-hidden--visually {border: 0;clip: rect(1px 1px 1px 1px);clip: rect(1px, 1px, 1px, 1px);height: 1px;margin: -1px;overflow: hidden;padding: 0;position: absolute;width: 1px;}#sk-container-id-5 div.sk-estimator {font-family: monospace;background-color: #f0f8ff;border: 1px dotted black;border-radius: 0.25em;box-sizing: border-box;margin-bottom: 0.5em;}#sk-container-id-5 div.sk-estimator:hover {background-color: #d4ebff;}#sk-container-id-5 div.sk-parallel-item::after {content: \"\";width: 100%;border-bottom: 1px solid gray;flex-grow: 1;}#sk-container-id-5 div.sk-label:hover label.sk-toggleable__label {background-color: #d4ebff;}#sk-container-id-5 div.sk-serial::before {content: \"\";position: absolute;border-left: 1px solid gray;box-sizing: border-box;top: 0;bottom: 0;left: 50%;z-index: 0;}#sk-container-id-5 div.sk-serial {display: flex;flex-direction: column;align-items: center;background-color: white;padding-right: 0.2em;padding-left: 0.2em;position: relative;}#sk-container-id-5 div.sk-item {position: relative;z-index: 1;}#sk-container-id-5 div.sk-parallel {display: flex;align-items: stretch;justify-content: center;background-color: white;position: relative;}#sk-container-id-5 div.sk-item::before, #sk-container-id-5 div.sk-parallel-item::before {content: \"\";position: absolute;border-left: 1px solid gray;box-sizing: border-box;top: 0;bottom: 0;left: 50%;z-index: -1;}#sk-container-id-5 div.sk-parallel-item {display: flex;flex-direction: column;z-index: 1;position: relative;background-color: white;}#sk-container-id-5 div.sk-parallel-item:first-child::after {align-self: flex-end;width: 50%;}#sk-container-id-5 div.sk-parallel-item:last-child::after {align-self: flex-start;width: 50%;}#sk-container-id-5 div.sk-parallel-item:only-child::after {width: 0;}#sk-container-id-5 div.sk-dashed-wrapped {border: 1px dashed gray;margin: 0 0.4em 0.5em 0.4em;box-sizing: border-box;padding-bottom: 0.4em;background-color: white;}#sk-container-id-5 div.sk-label label {font-family: monospace;font-weight: bold;display: inline-block;line-height: 1.2em;}#sk-container-id-5 div.sk-label-container {text-align: center;}#sk-container-id-5 div.sk-container {/* jupyter's `normalize.less` sets `[hidden] { display: none; }` but bootstrap.min.css set `[hidden] { display: none !important; }` so we also need the `!important` here to be able to override the default hidden behavior on the sphinx rendered scikit-learn.org. See: https://github.com/scikit-learn/scikit-learn/issues/21755 */display: inline-block !important;position: relative;}#sk-container-id-5 div.sk-text-repr-fallback {display: none;}</style><div id=\"sk-container-id-5\" class=\"sk-top-container\"><div class=\"sk-text-repr-fallback\"><pre>Pipeline(steps=[(&#x27;transformer&#x27;,\n",
       "                 ColumnTransformer(transformers=[(&#x27;onehot&#x27;,\n",
       "                                                  OneHotEncoder(drop=&#x27;first&#x27;,\n",
       "                                                                handle_unknown=&#x27;ignore&#x27;),\n",
       "                                                  [&#x27;Patrol Borough Name&#x27;,\n",
       "                                                   &#x27;Law Code Category &#x27;\n",
       "                                                   &#x27;Description&#x27;,\n",
       "                                                   &#x27;Offense Description&#x27;,\n",
       "                                                   &#x27;Bias Motive &#x27;\n",
       "                                                   &#x27;Description&#x27;])])),\n",
       "                (&#x27;learner&#x27;, LogisticRegression())])</pre><b>In a Jupyter environment, please rerun this cell to show the HTML representation or trust the notebook. <br />On GitHub, the HTML representation is unable to render, please try loading this page with nbviewer.org.</b></div><div class=\"sk-container\" hidden><div class=\"sk-item sk-dashed-wrapped\"><div class=\"sk-label-container\"><div class=\"sk-label sk-toggleable\"><input class=\"sk-toggleable__control sk-hidden--visually\" id=\"sk-estimator-id-13\" type=\"checkbox\" ><label for=\"sk-estimator-id-13\" class=\"sk-toggleable__label sk-toggleable__label-arrow\">Pipeline</label><div class=\"sk-toggleable__content\"><pre>Pipeline(steps=[(&#x27;transformer&#x27;,\n",
       "                 ColumnTransformer(transformers=[(&#x27;onehot&#x27;,\n",
       "                                                  OneHotEncoder(drop=&#x27;first&#x27;,\n",
       "                                                                handle_unknown=&#x27;ignore&#x27;),\n",
       "                                                  [&#x27;Patrol Borough Name&#x27;,\n",
       "                                                   &#x27;Law Code Category &#x27;\n",
       "                                                   &#x27;Description&#x27;,\n",
       "                                                   &#x27;Offense Description&#x27;,\n",
       "                                                   &#x27;Bias Motive &#x27;\n",
       "                                                   &#x27;Description&#x27;])])),\n",
       "                (&#x27;learner&#x27;, LogisticRegression())])</pre></div></div></div><div class=\"sk-serial\"><div class=\"sk-item sk-dashed-wrapped\"><div class=\"sk-label-container\"><div class=\"sk-label sk-toggleable\"><input class=\"sk-toggleable__control sk-hidden--visually\" id=\"sk-estimator-id-14\" type=\"checkbox\" ><label for=\"sk-estimator-id-14\" class=\"sk-toggleable__label sk-toggleable__label-arrow\">transformer: ColumnTransformer</label><div class=\"sk-toggleable__content\"><pre>ColumnTransformer(transformers=[(&#x27;onehot&#x27;,\n",
       "                                 OneHotEncoder(drop=&#x27;first&#x27;,\n",
       "                                               handle_unknown=&#x27;ignore&#x27;),\n",
       "                                 [&#x27;Patrol Borough Name&#x27;,\n",
       "                                  &#x27;Law Code Category Description&#x27;,\n",
       "                                  &#x27;Offense Description&#x27;,\n",
       "                                  &#x27;Bias Motive Description&#x27;])])</pre></div></div></div><div class=\"sk-parallel\"><div class=\"sk-parallel-item\"><div class=\"sk-item\"><div class=\"sk-label-container\"><div class=\"sk-label sk-toggleable\"><input class=\"sk-toggleable__control sk-hidden--visually\" id=\"sk-estimator-id-15\" type=\"checkbox\" ><label for=\"sk-estimator-id-15\" class=\"sk-toggleable__label sk-toggleable__label-arrow\">onehot</label><div class=\"sk-toggleable__content\"><pre>[&#x27;Patrol Borough Name&#x27;, &#x27;Law Code Category Description&#x27;, &#x27;Offense Description&#x27;, &#x27;Bias Motive Description&#x27;]</pre></div></div></div><div class=\"sk-serial\"><div class=\"sk-item\"><div class=\"sk-estimator sk-toggleable\"><input class=\"sk-toggleable__control sk-hidden--visually\" id=\"sk-estimator-id-16\" type=\"checkbox\" ><label for=\"sk-estimator-id-16\" class=\"sk-toggleable__label sk-toggleable__label-arrow\">OneHotEncoder</label><div class=\"sk-toggleable__content\"><pre>OneHotEncoder(drop=&#x27;first&#x27;, handle_unknown=&#x27;ignore&#x27;)</pre></div></div></div></div></div></div></div></div><div class=\"sk-item\"><div class=\"sk-estimator sk-toggleable\"><input class=\"sk-toggleable__control sk-hidden--visually\" id=\"sk-estimator-id-17\" type=\"checkbox\" ><label for=\"sk-estimator-id-17\" class=\"sk-toggleable__label sk-toggleable__label-arrow\">LogisticRegression</label><div class=\"sk-toggleable__content\"><pre>LogisticRegression()</pre></div></div></div></div></div></div></div>"
      ],
      "text/plain": [
       "Pipeline(steps=[('transformer',\n",
       "                 ColumnTransformer(transformers=[('onehot',\n",
       "                                                  OneHotEncoder(drop='first',\n",
       "                                                                handle_unknown='ignore'),\n",
       "                                                  ['Patrol Borough Name',\n",
       "                                                   'Law Code Category '\n",
       "                                                   'Description',\n",
       "                                                   'Offense Description',\n",
       "                                                   'Bias Motive '\n",
       "                                                   'Description'])])),\n",
       "                ('learner', LogisticRegression())])"
      ]
     },
     "execution_count": 87,
     "metadata": {},
     "output_type": "execute_result"
    }
   ],
   "source": [
    "model.fit(data[features],data[target])"
   ]
  },
  {
   "cell_type": "code",
   "execution_count": 88,
   "metadata": {},
   "outputs": [],
   "source": [
    "inner_model = model['learner']"
   ]
  },
  {
   "cell_type": "code",
   "execution_count": 89,
   "metadata": {},
   "outputs": [],
   "source": [
    "coefs = inner_model.coef_\n",
    "coefs_df = pd.DataFrame(\n",
    "    {'coefs':coefs[0],\n",
    "     'feats':model['transformer'].get_feature_names_out()}\n",
    ")\n",
    "coefs_df['factor'] = np.exp(coefs_df['coefs'])"
   ]
  },
  {
   "cell_type": "code",
   "execution_count": 92,
   "metadata": {},
   "outputs": [
    {
     "data": {
      "text/plain": [
       "['onehot__Offense Description_MISCELLANEOUS PENAL LAW',\n",
       " 'onehot__Offense Description_CRIMINAL MISCHIEF & RELATED OF',\n",
       " 'onehot__Law Code Category Description_MISDEMEANOR',\n",
       " 'onehot__Bias Motive Description_ANTI-PROTESTANT',\n",
       " 'onehot__Law Code Category Description_VIOLATION',\n",
       " 'onehot__Offense Description_HARRASSMENT 2',\n",
       " 'onehot__Offense Description_GRAND LARCENY',\n",
       " 'onehot__Bias Motive Description_ANTI-JEWISH',\n",
       " 'onehot__Bias Motive Description_ANTI-BUDDHIST',\n",
       " 'onehot__Bias Motive Description_ANTI-RELIGIOUS PRACTICE GENERALLY',\n",
       " 'onehot__Law Code Category Description_INVESTIGATION',\n",
       " 'onehot__Offense Description_INVESTIGATIONS/COMPLAINTS ONLY',\n",
       " 'onehot__Offense Description_PETIT LARCENY',\n",
       " 'onehot__Offense Description_OFF. AGNST PUB ORD SENSBLTY &',\n",
       " 'onehot__Bias Motive Description_ANTI-GENDER NON-CONFORMING',\n",
       " 'onehot__Patrol Borough Name_PATROL BORO BRONX',\n",
       " 'onehot__Bias Motive Description_ANTI-MORMON',\n",
       " 'onehot__Bias Motive Description_ANTI-MALE HOMOSEXUAL (GAY)',\n",
       " 'onehot__Bias Motive Description_ANTI-BLACK',\n",
       " 'onehot__Bias Motive Description_ANTI-LGBT (MIXED GROUP)',\n",
       " 'onehot__Offense Description_BURGLARY',\n",
       " 'onehot__Offense Description_FRAUDS',\n",
       " 'onehot__Bias Motive Description_ANTI-PHYSICAL DISABILITY',\n",
       " 'onehot__Patrol Borough Name_PATROL BORO MAN NORTH',\n",
       " 'onehot__Offense Description_HOMICIDE-NEGLIGENT,UNCLASSIFIE',\n",
       " 'onehot__Bias Motive Description_ANTI-HISPANIC',\n",
       " 'onehot__Patrol Borough Name_PATROL BORO QUEENS NORTH',\n",
       " 'onehot__Bias Motive Description_ANTI-JEHOVAHS WITNESS',\n",
       " 'onehot__Bias Motive Description_ANTI-WHITE',\n",
       " 'onehot__Patrol Borough Name_PATROL BORO STATEN ISLAND']"
      ]
     },
     "execution_count": 92,
     "metadata": {},
     "output_type": "execute_result"
    }
   ],
   "source": [
    "list(coefs_df.sort_values(by='factor',ascending=True).head(30)['feats'].values)"
   ]
  },
  {
   "cell_type": "code",
   "execution_count": 67,
   "metadata": {},
   "outputs": [],
   "source": [
    "predictions = model.predict_proba(data[features])"
   ]
  },
  {
   "cell_type": "code",
   "execution_count": 69,
   "metadata": {},
   "outputs": [
    {
     "data": {
      "text/plain": [
       "array([0.22162217, 0.20229985, 0.20229985, ..., 0.75483071, 0.60224927,\n",
       "       0.60224927])"
      ]
     },
     "execution_count": 69,
     "metadata": {},
     "output_type": "execute_result"
    }
   ],
   "source": [
    "predictions[:,1]"
   ]
  },
  {
   "cell_type": "code",
   "execution_count": 70,
   "metadata": {},
   "outputs": [
    {
     "data": {
      "text/plain": [
       "0       0\n",
       "1       0\n",
       "2       0\n",
       "3       0\n",
       "4       0\n",
       "       ..\n",
       "3073    1\n",
       "3074    1\n",
       "3075    1\n",
       "3076    1\n",
       "3077    1\n",
       "Name: Arrested, Length: 3078, dtype: int32"
      ]
     },
     "execution_count": 70,
     "metadata": {},
     "output_type": "execute_result"
    }
   ],
   "source": [
    "data[target]"
   ]
  },
  {
   "cell_type": "code",
   "execution_count": 71,
   "metadata": {},
   "outputs": [],
   "source": [
    "import matplotlib.pyplot as plt"
   ]
  },
  {
   "cell_type": "code",
   "execution_count": 72,
   "metadata": {},
   "outputs": [
    {
     "data": {
      "text/plain": [
       "<matplotlib.collections.PathCollection at 0x292d81bfd50>"
      ]
     },
     "execution_count": 72,
     "metadata": {},
     "output_type": "execute_result"
    },
    {
     "data": {
      "image/png": "[encoded data removed]",
      "text/plain": [
       "<Figure size 640x480 with 1 Axes>"
      ]
     },
     "metadata": {},
     "output_type": "display_data"
    }
   ],
   "source": [
    "plt.scatter(data[target],predictions[:,1])"
   ]
  },
  {
   "cell_type": "code",
   "execution_count": null,
   "metadata": {},
   "outputs": [],
   "source": []
  }
 ],
 "metadata": {
  "kernelspec": {
   "display_name": ".venv",
   "language": "python",
   "name": "python3"
  },
  "language_info": {
   "codemirror_mode": {
    "name": "ipython",
    "version": 3
   },
   "file_extension": ".py",
   "mimetype": "text/x-python",
   "name": "python",
   "nbconvert_exporter": "python",
   "pygments_lexer": "ipython3",
   "version": "3.11.3"
  }
 },
 "nbformat": 4,
 "nbformat_minor": 2
}
